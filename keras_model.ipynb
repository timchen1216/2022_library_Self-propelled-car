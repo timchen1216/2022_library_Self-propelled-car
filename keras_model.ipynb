{
 "cells": [
  {
   "cell_type": "markdown",
   "metadata": {
    "colab_type": "text",
    "id": "N-S3jKKEiB95"
   },
   "source": [
    "# 手寫數字辨識\n",
    "#  "
   ]
  },
  {
   "cell_type": "markdown",
   "metadata": {
    "colab_type": "text",
    "id": "Z0wrVvxyiB97"
   },
   "source": [
    "### MNIST, Convolutional Neural Network (CNN)\n",
    "\n",
    "### MNIST由手寫阿拉伯數字組成，包含60,000個訓練樣本和10,000個測試樣本。\n",
    "\n",
    "##### data from: https://keras.io/datasets/#mnist-database-of-handwritten-digits\n"
   ]
  },
  {
   "cell_type": "markdown",
   "metadata": {
    "colab_type": "text",
    "id": "88Yhbd6XiB98"
   },
   "source": [
    "# (1) Import the data from Keras"
   ]
  },
  {
   "cell_type": "code",
   "execution_count": 1,
   "metadata": {
    "colab": {},
    "colab_type": "code",
    "id": "4NHDi4ghiB9-",
    "scrolled": true
   },
   "outputs": [],
   "source": [
    "from keras.utils import np_utils\n",
    "import matplotlib.pyplot as plt\n",
    "import pandas as pd\n",
    "import numpy as np\n",
    "np.random.seed(3)"
   ]
  },
  {
   "cell_type": "code",
   "execution_count": 2,
   "metadata": {
    "colab": {
     "base_uri": "https://localhost:8080/",
     "height": 34
    },
    "colab_type": "code",
    "id": "bJKPj9xKiB-H",
    "outputId": "f84edb3e-e2ce-48f0-8511-662cae9793c0"
   },
   "outputs": [
    {
     "name": "stdout",
     "output_type": "stream",
     "text": [
      "(60000, 28, 28)\n",
      "(60000,)\n",
      "(10000, 28, 28)\n",
      "(10000,)\n"
     ]
    }
   ],
   "source": [
    "# read in the file\n",
    "import keras\n",
    "import tensorflow as tf \n",
    "\n",
    "tf.keras.datasets.mnist.load_data(path=\"mnist.npz\")\n",
    "(x_train, y_train), (x_test, y_test) = keras.datasets.mnist.load_data()\n",
    "\n",
    "print(x_train.shape)\n",
    "print(y_train.shape)\n",
    "print(x_test.shape)\n",
    "print(y_test.shape)"
   ]
  },
  {
   "cell_type": "markdown",
   "metadata": {
    "colab_type": "text",
    "id": "IG_aNFEuiB-K"
   },
   "source": [
    "# (2) View the first 10 images and labels"
   ]
  },
  {
   "cell_type": "code",
   "execution_count": 3,
   "metadata": {
    "colab": {
     "base_uri": "https://localhost:8080/",
     "height": 318
    },
    "colab_type": "code",
    "id": "rFH2lowXiB-L",
    "outputId": "55ee921c-83f4-464b-ecda-1b7f9770b03e"
   },
   "outputs": [
    {
     "data": {
      "image/png": "[encoded data removed]",
      "text/plain": [
       "<Figure size 864x1008 with 10 Axes>"
      ]
     },
     "metadata": {},
     "output_type": "display_data"
    }
   ],
   "source": [
    "fig = plt.gcf()\n",
    "fig.set_size_inches(12,14)\n",
    "\n",
    "for i in range(0,10):\n",
    "    ax=plt.subplot(5,5,1+i)\n",
    "    ax.imshow(x_train[i], cmap='binary')\n",
    "    title= \"label=\" +str(y_train[i])\n",
    "    ax.set_title(title,fontsize=10) \n",
    "    ax.set_xticks([]);ax.set_yticks([])        \n",
    "plt.show()"
   ]
  },
  {
   "cell_type": "markdown",
   "metadata": {
    "colab_type": "text",
    "id": "cgntcnA3iB-O"
   },
   "source": [
    "# (3) Convert 2-D image to nx28x28x1 array, normalize the numbers"
   ]
  },
  {
   "cell_type": "code",
   "execution_count": 4,
   "metadata": {
    "colab": {},
    "colab_type": "code",
    "id": "QsLvVG6PiB-P"
   },
   "outputs": [],
   "source": [
    "# convert 2-D 28x28 image to 4-D nx28x28x1  array\n",
    "\n",
    "x_Train4D=x_train.reshape(x_train.shape[0],28,28,1).astype('float32')\n",
    "x_Test4D=x_test.reshape(x_test.shape[0],28,28,1).astype('float32')"
   ]
  },
  {
   "cell_type": "code",
   "execution_count": 5,
   "metadata": {
    "colab": {
     "base_uri": "https://localhost:8080/",
     "height": 51
    },
    "colab_type": "code",
    "id": "ak17dtJOiB-R",
    "outputId": "00419a76-cfcc-46ed-933c-7126a749000d"
   },
   "outputs": [
    {
     "name": "stdout",
     "output_type": "stream",
     "text": [
      "(60000, 28, 28, 1)\n",
      "(10000, 28, 28, 1)\n"
     ]
    }
   ],
   "source": [
    "# normalize the image numbers to 0~1\n",
    "\n",
    "x_Train4D_normalize = x_Train4D / 255\n",
    "x_Test4D_normalize = x_Test4D / 255\n",
    "print(x_Train4D_normalize.shape)\n",
    "print(x_Test4D_normalize.shape)"
   ]
  },
  {
   "cell_type": "markdown",
   "metadata": {
    "colab_type": "text",
    "id": "9NVmskhZiB-U"
   },
   "source": [
    "# (4) Convert label number to one-hot encoding"
   ]
  },
  {
   "cell_type": "code",
   "execution_count": 6,
   "metadata": {
    "colab": {
     "base_uri": "https://localhost:8080/",
     "height": 51
    },
    "colab_type": "code",
    "id": "KHam7D5MiB-V",
    "outputId": "69ac8686-388d-4bff-9158-d41c147b942b"
   },
   "outputs": [
    {
     "name": "stdout",
     "output_type": "stream",
     "text": [
      "(60000, 10)\n",
      "(10000, 10)\n"
     ]
    }
   ],
   "source": [
    "# convert label numbers to one-hot encoding\n",
    "\n",
    "y_TrainOneHot = np_utils.to_categorical(y_train)\n",
    "y_TestOneHot = np_utils.to_categorical(y_test)\n",
    "print(y_TrainOneHot.shape)\n",
    "print(y_TestOneHot.shape)"
   ]
  },
  {
   "cell_type": "markdown",
   "metadata": {
    "colab_type": "text",
    "collapsed": true,
    "id": "IjVdsDWqiB-a"
   },
   "source": [
    "# (5) Use a Convolutional Neural Network"
   ]
  },
  {
   "cell_type": "code",
   "execution_count": 7,
   "metadata": {
    "colab": {},
    "colab_type": "code",
    "id": "j-cVM2PMiB-a"
   },
   "outputs": [],
   "source": [
    "from tensorflow.keras import layers"
   ]
  },
  {
   "cell_type": "code",
   "execution_count": 8,
   "metadata": {},
   "outputs": [],
   "source": [
    "data_augmentation = tf.keras.Sequential([\n",
    "  layers.RandomRotation(0.3),\n",
    "])"
   ]
  },
  {
   "cell_type": "code",
   "execution_count": 9,
   "metadata": {
    "colab": {},
    "colab_type": "code",
    "id": "LGzyg9FEiB-d"
   },
   "outputs": [],
   "source": [
    "model1 = tf.keras.Sequential([\n",
    "    data_augmentation,\n",
    "    layers.Conv2D(filters=16, kernel_size=(5, 5), padding='same',\n",
    "                  input_shape=(28, 28, 1), activation='relu'),\n",
    "    layers.MaxPooling2D(pool_size=(2, 2)),\n",
    "    layers.Conv2D(filters=36, kernel_size=(5, 5),\n",
    "                  padding='same', activation='relu'),\n",
    "    layers.MaxPooling2D(pool_size=(2, 2)),\n",
    "    layers.Dropout(0.25),\n",
    "    layers.Flatten(),\n",
    "    layers.Dense(128, activation='relu'),\n",
    "    layers.Dropout(0.5),\n",
    "    layers.Dense(10,activation='softmax')\n",
    "])\n",
    "\n",
    "model2 = tf.keras.Sequential([\n",
    "    data_augmentation,\n",
    "    layers.Conv2D(filters=32, kernel_size=(3, 3),input_shape=(28, 28, 1), activation='relu'),\n",
    "    layers.MaxPooling2D(pool_size=(2, 2)),\n",
    "    layers.Conv2D(filters=64, kernel_size=(3, 3),activation='relu'),\n",
    "    layers.MaxPooling2D(pool_size=(2, 2)),\n",
    "    layers.Flatten(),\n",
    "    layers.Dense(128, activation='relu'),\n",
    "    layers.Dense(64, activation='relu'),\n",
    "    layers.Dense(10,activation='softmax')\n",
    "])\n",
    "\n",
    "model = model2"
   ]
  },
  {
   "cell_type": "code",
   "execution_count": 10,
   "metadata": {
    "colab": {
     "base_uri": "https://localhost:8080/",
     "height": 459
    },
    "colab_type": "code",
    "id": "bPYY0gb2iB-v",
    "outputId": "f4d7e764-73cc-4bdf-fb68-f2017def61d4"
   },
   "outputs": [
    {
     "name": "stdout",
     "output_type": "stream",
     "text": [
      "Model: \"sequential_2\"\n",
      "_________________________________________________________________\n",
      " Layer (type)                Output Shape              Param #   \n",
      "=================================================================\n",
      " sequential (Sequential)     (None, 28, 28, 1)         0         \n",
      "                                                                 \n",
      " conv2d_2 (Conv2D)           (None, 26, 26, 32)        320       \n",
      "                                                                 \n",
      " max_pooling2d_2 (MaxPooling  (None, 13, 13, 32)       0         \n",
      " 2D)                                                             \n",
      "                                                                 \n",
      " conv2d_3 (Conv2D)           (None, 11, 11, 64)        18496     \n",
      "                                                                 \n",
      " max_pooling2d_3 (MaxPooling  (None, 5, 5, 64)         0         \n",
      " 2D)                                                             \n",
      "                                                                 \n",
      " flatten_1 (Flatten)         (None, 1600)              0         \n",
      "                                                                 \n",
      " dense_2 (Dense)             (None, 128)               204928    \n",
      "                                                                 \n",
      " dense_3 (Dense)             (None, 64)                8256      \n",
      "                                                                 \n",
      " dense_4 (Dense)             (None, 10)                650       \n",
      "                                                                 \n",
      "=================================================================\n",
      "Total params: 232,650\n",
      "Trainable params: 232,650\n",
      "Non-trainable params: 0\n",
      "_________________________________________________________________\n",
      "None\n"
     ]
    }
   ],
   "source": [
    "input_shape = (None, 28, 28, 1)\n",
    "model.build(input_shape)\n",
    "print(model.summary())\n"
   ]
  },
  {
   "cell_type": "markdown",
   "metadata": {
    "colab_type": "text",
    "id": "lps55lvXiB-y"
   },
   "source": [
    "# (6) Model training"
   ]
  },
  {
   "cell_type": "code",
   "execution_count": 11,
   "metadata": {
    "colab": {},
    "colab_type": "code",
    "id": "Li6DsK-hiB-z"
   },
   "outputs": [],
   "source": [
    "model.compile(loss='categorical_crossentropy',\n",
    "              optimizer='adam',metrics=['accuracy']) "
   ]
  },
  {
   "cell_type": "code",
   "execution_count": 12,
   "metadata": {
    "colab": {
     "base_uri": "https://localhost:8080/",
     "height": 1734
    },
    "colab_type": "code",
    "id": "WHV_-sKeiB-3",
    "outputId": "cdd9a518-b634-4a28-f37d-7b6efcea57f7"
   },
   "outputs": [
    {
     "name": "stdout",
     "output_type": "stream",
     "text": [
      "Epoch 1/50\n",
      "160/160 - 13s - loss: 0.8487 - accuracy: 0.7275 - val_loss: 0.3282 - val_accuracy: 0.9001 - 13s/epoch - 81ms/step\n",
      "Epoch 2/50\n",
      "160/160 - 12s - loss: 0.3225 - accuracy: 0.9017 - val_loss: 0.2000 - val_accuracy: 0.9379 - 12s/epoch - 75ms/step\n",
      "Epoch 3/50\n",
      "160/160 - 11s - loss: 0.2324 - accuracy: 0.9282 - val_loss: 0.1677 - val_accuracy: 0.9463 - 11s/epoch - 69ms/step\n",
      "Epoch 4/50\n",
      "160/160 - 12s - loss: 0.1872 - accuracy: 0.9426 - val_loss: 0.1253 - val_accuracy: 0.9589 - 12s/epoch - 73ms/step\n",
      "Epoch 5/50\n",
      "160/160 - 12s - loss: 0.1601 - accuracy: 0.9506 - val_loss: 0.1196 - val_accuracy: 0.9622 - 12s/epoch - 74ms/step\n",
      "Epoch 6/50\n",
      "160/160 - 12s - loss: 0.1359 - accuracy: 0.9585 - val_loss: 0.1204 - val_accuracy: 0.9619 - 12s/epoch - 78ms/step\n",
      "Epoch 7/50\n",
      "160/160 - 12s - loss: 0.1256 - accuracy: 0.9613 - val_loss: 0.1059 - val_accuracy: 0.9677 - 12s/epoch - 72ms/step\n",
      "Epoch 8/50\n",
      "160/160 - 12s - loss: 0.1154 - accuracy: 0.9650 - val_loss: 0.0945 - val_accuracy: 0.9705 - 12s/epoch - 73ms/step\n",
      "Epoch 9/50\n",
      "160/160 - 11s - loss: 0.1020 - accuracy: 0.9683 - val_loss: 0.0889 - val_accuracy: 0.9724 - 11s/epoch - 69ms/step\n",
      "Epoch 10/50\n",
      "160/160 - 11s - loss: 0.1001 - accuracy: 0.9688 - val_loss: 0.0830 - val_accuracy: 0.9747 - 11s/epoch - 69ms/step\n",
      "Epoch 11/50\n",
      "160/160 - 11s - loss: 0.0948 - accuracy: 0.9711 - val_loss: 0.0775 - val_accuracy: 0.9762 - 11s/epoch - 68ms/step\n",
      "Epoch 12/50\n",
      "160/160 - 11s - loss: 0.0902 - accuracy: 0.9718 - val_loss: 0.0795 - val_accuracy: 0.9752 - 11s/epoch - 68ms/step\n",
      "Epoch 13/50\n",
      "160/160 - 11s - loss: 0.0838 - accuracy: 0.9736 - val_loss: 0.0795 - val_accuracy: 0.9770 - 11s/epoch - 68ms/step\n",
      "Epoch 14/50\n",
      "160/160 - 11s - loss: 0.0786 - accuracy: 0.9753 - val_loss: 0.0724 - val_accuracy: 0.9777 - 11s/epoch - 69ms/step\n",
      "Epoch 15/50\n",
      "160/160 - 11s - loss: 0.0792 - accuracy: 0.9749 - val_loss: 0.0742 - val_accuracy: 0.9777 - 11s/epoch - 69ms/step\n",
      "Epoch 16/50\n",
      "160/160 - 11s - loss: 0.0732 - accuracy: 0.9776 - val_loss: 0.0797 - val_accuracy: 0.9771 - 11s/epoch - 69ms/step\n",
      "Epoch 17/50\n",
      "160/160 - 11s - loss: 0.0692 - accuracy: 0.9779 - val_loss: 0.0694 - val_accuracy: 0.9798 - 11s/epoch - 69ms/step\n",
      "Epoch 18/50\n",
      "160/160 - 11s - loss: 0.0696 - accuracy: 0.9778 - val_loss: 0.0635 - val_accuracy: 0.9827 - 11s/epoch - 69ms/step\n",
      "Epoch 19/50\n",
      "160/160 - 11s - loss: 0.0672 - accuracy: 0.9792 - val_loss: 0.0616 - val_accuracy: 0.9824 - 11s/epoch - 68ms/step\n",
      "Epoch 20/50\n",
      "160/160 - 11s - loss: 0.0658 - accuracy: 0.9797 - val_loss: 0.0641 - val_accuracy: 0.9814 - 11s/epoch - 68ms/step\n",
      "Epoch 21/50\n",
      "160/160 - 12s - loss: 0.0636 - accuracy: 0.9799 - val_loss: 0.0752 - val_accuracy: 0.9766 - 12s/epoch - 76ms/step\n",
      "Epoch 22/50\n",
      "160/160 - 12s - loss: 0.0613 - accuracy: 0.9806 - val_loss: 0.0660 - val_accuracy: 0.9804 - 12s/epoch - 78ms/step\n",
      "Epoch 23/50\n",
      "160/160 - 12s - loss: 0.0603 - accuracy: 0.9808 - val_loss: 0.0775 - val_accuracy: 0.9787 - 12s/epoch - 77ms/step\n",
      "Epoch 24/50\n",
      "160/160 - 12s - loss: 0.0583 - accuracy: 0.9823 - val_loss: 0.0625 - val_accuracy: 0.9819 - 12s/epoch - 73ms/step\n",
      "Epoch 25/50\n",
      "160/160 - 11s - loss: 0.0539 - accuracy: 0.9829 - val_loss: 0.0600 - val_accuracy: 0.9830 - 11s/epoch - 68ms/step\n",
      "Epoch 26/50\n",
      "160/160 - 11s - loss: 0.0552 - accuracy: 0.9827 - val_loss: 0.0744 - val_accuracy: 0.9787 - 11s/epoch - 71ms/step\n",
      "Epoch 27/50\n",
      "160/160 - 11s - loss: 0.0546 - accuracy: 0.9830 - val_loss: 0.0660 - val_accuracy: 0.9818 - 11s/epoch - 68ms/step\n",
      "Epoch 28/50\n",
      "160/160 - 11s - loss: 0.0522 - accuracy: 0.9829 - val_loss: 0.0575 - val_accuracy: 0.9840 - 11s/epoch - 69ms/step\n",
      "Epoch 29/50\n",
      "160/160 - 11s - loss: 0.0508 - accuracy: 0.9835 - val_loss: 0.0684 - val_accuracy: 0.9815 - 11s/epoch - 70ms/step\n",
      "Epoch 30/50\n",
      "160/160 - 12s - loss: 0.0494 - accuracy: 0.9845 - val_loss: 0.0618 - val_accuracy: 0.9840 - 12s/epoch - 77ms/step\n",
      "Epoch 31/50\n",
      "160/160 - 13s - loss: 0.0471 - accuracy: 0.9854 - val_loss: 0.0566 - val_accuracy: 0.9850 - 13s/epoch - 84ms/step\n",
      "Epoch 32/50\n",
      "160/160 - 13s - loss: 0.0462 - accuracy: 0.9850 - val_loss: 0.0643 - val_accuracy: 0.9818 - 13s/epoch - 81ms/step\n",
      "Epoch 33/50\n",
      "160/160 - 13s - loss: 0.0451 - accuracy: 0.9857 - val_loss: 0.0673 - val_accuracy: 0.9821 - 13s/epoch - 79ms/step\n",
      "Epoch 34/50\n",
      "160/160 - 12s - loss: 0.0468 - accuracy: 0.9847 - val_loss: 0.0595 - val_accuracy: 0.9845 - 12s/epoch - 72ms/step\n",
      "Epoch 35/50\n",
      "160/160 - 12s - loss: 0.0461 - accuracy: 0.9852 - val_loss: 0.0559 - val_accuracy: 0.9839 - 12s/epoch - 73ms/step\n",
      "Epoch 36/50\n",
      "160/160 - 14s - loss: 0.0418 - accuracy: 0.9872 - val_loss: 0.0554 - val_accuracy: 0.9848 - 14s/epoch - 89ms/step\n",
      "Epoch 37/50\n",
      "160/160 - 14s - loss: 0.0426 - accuracy: 0.9866 - val_loss: 0.0624 - val_accuracy: 0.9828 - 14s/epoch - 86ms/step\n",
      "Epoch 38/50\n",
      "160/160 - 11s - loss: 0.0418 - accuracy: 0.9869 - val_loss: 0.0554 - val_accuracy: 0.9862 - 11s/epoch - 69ms/step\n",
      "Epoch 39/50\n",
      "160/160 - 12s - loss: 0.0413 - accuracy: 0.9867 - val_loss: 0.0529 - val_accuracy: 0.9850 - 12s/epoch - 75ms/step\n",
      "Epoch 40/50\n",
      "160/160 - 11s - loss: 0.0403 - accuracy: 0.9872 - val_loss: 0.0576 - val_accuracy: 0.9849 - 11s/epoch - 71ms/step\n",
      "Epoch 41/50\n",
      "160/160 - 12s - loss: 0.0387 - accuracy: 0.9877 - val_loss: 0.0598 - val_accuracy: 0.9841 - 12s/epoch - 75ms/step\n",
      "Epoch 42/50\n",
      "160/160 - 13s - loss: 0.0393 - accuracy: 0.9872 - val_loss: 0.0630 - val_accuracy: 0.9828 - 13s/epoch - 78ms/step\n",
      "Epoch 43/50\n",
      "160/160 - 12s - loss: 0.0394 - accuracy: 0.9875 - val_loss: 0.0535 - val_accuracy: 0.9858 - 12s/epoch - 75ms/step\n",
      "Epoch 44/50\n",
      "160/160 - 11s - loss: 0.0368 - accuracy: 0.9880 - val_loss: 0.0677 - val_accuracy: 0.9825 - 11s/epoch - 67ms/step\n",
      "Epoch 45/50\n",
      "160/160 - 11s - loss: 0.0384 - accuracy: 0.9881 - val_loss: 0.0526 - val_accuracy: 0.9858 - 11s/epoch - 67ms/step\n",
      "Epoch 46/50\n",
      "160/160 - 11s - loss: 0.0351 - accuracy: 0.9888 - val_loss: 0.0554 - val_accuracy: 0.9851 - 11s/epoch - 69ms/step\n",
      "Epoch 47/50\n",
      "160/160 - 11s - loss: 0.0351 - accuracy: 0.9883 - val_loss: 0.0528 - val_accuracy: 0.9857 - 11s/epoch - 70ms/step\n",
      "Epoch 48/50\n",
      "160/160 - 11s - loss: 0.0344 - accuracy: 0.9893 - val_loss: 0.0594 - val_accuracy: 0.9843 - 11s/epoch - 68ms/step\n",
      "Epoch 49/50\n",
      "160/160 - 11s - loss: 0.0339 - accuracy: 0.9891 - val_loss: 0.0546 - val_accuracy: 0.9853 - 11s/epoch - 68ms/step\n",
      "Epoch 50/50\n",
      "160/160 - 12s - loss: 0.0346 - accuracy: 0.9889 - val_loss: 0.0621 - val_accuracy: 0.9839 - 12s/epoch - 75ms/step\n"
     ]
    }
   ],
   "source": [
    "train_history=model.fit(x=x_Train4D_normalize, \n",
    "                        y=y_TrainOneHot,validation_split=0.2, \n",
    "                        epochs=50, batch_size=300,verbose=2)"
   ]
  },
  {
   "cell_type": "markdown",
   "metadata": {
    "colab_type": "text",
    "id": "wjur8EBwiB-5"
   },
   "source": [
    "# (7) Training history"
   ]
  },
  {
   "cell_type": "code",
   "execution_count": 13,
   "metadata": {
    "colab": {},
    "colab_type": "code",
    "id": "9TnuMkBciB-6"
   },
   "outputs": [],
   "source": [
    "def show_train_history(train_history,train,validation):\n",
    "    plt.plot(train_history.history[train])\n",
    "    plt.plot(train_history.history[validation])\n",
    "    plt.title('Train History')\n",
    "    plt.ylabel(train)\n",
    "    plt.xlabel('Epoch')\n",
    "    plt.legend(['train', 'validation'], loc='upper left')\n",
    "    plt.show()"
   ]
  },
  {
   "cell_type": "code",
   "execution_count": 14,
   "metadata": {
    "colab": {
     "base_uri": "https://localhost:8080/",
     "height": 376
    },
    "colab_type": "code",
    "id": "DG8q8QKJiB-8",
    "outputId": "ebf6dc05-7baa-4470-f1ee-08c42b449c07"
   },
   "outputs": [
    {
     "data": {
      "image/png": "[encoded data removed]",
      "text/plain": [
       "<Figure size 432x288 with 1 Axes>"
      ]
     },
     "metadata": {
      "needs_background": "light"
     },
     "output_type": "display_data"
    }
   ],
   "source": [
    "show_train_history(train_history,'accuracy','val_accuracy')"
   ]
  },
  {
   "cell_type": "code",
   "execution_count": 15,
   "metadata": {
    "colab": {
     "base_uri": "https://localhost:8080/",
     "height": 376
    },
    "colab_type": "code",
    "id": "NHZSgQl1iB--",
    "outputId": "50f1a852-173c-40b8-8d7f-97686311bccf"
   },
   "outputs": [
    {
     "data": {
      "image/png": "[encoded data removed]",
      "text/plain": [
       "<Figure size 432x288 with 1 Axes>"
      ]
     },
     "metadata": {
      "needs_background": "light"
     },
     "output_type": "display_data"
    }
   ],
   "source": [
    "show_train_history(train_history,'loss','val_loss')"
   ]
  },
  {
   "cell_type": "markdown",
   "metadata": {
    "colab_type": "text",
    "id": "UAsBzQe3iB_A"
   },
   "source": [
    "# (8) Accuracy"
   ]
  },
  {
   "cell_type": "code",
   "execution_count": 16,
   "metadata": {
    "colab": {
     "base_uri": "https://localhost:8080/",
     "height": 68
    },
    "colab_type": "code",
    "id": "4y7ZkS_giB_B",
    "outputId": "b6b0bb53-01e5-4aa8-8d2a-de0fc96bc2db"
   },
   "outputs": [
    {
     "name": "stdout",
     "output_type": "stream",
     "text": [
      "313/313 [==============================] - 1s 4ms/step - loss: 0.0536 - accuracy: 0.9833\n",
      "\n",
      "accuracy= 0.983299970626831\n"
     ]
    }
   ],
   "source": [
    "scores = model.evaluate(x_Test4D_normalize, y_TestOneHot)\n",
    "print()\n",
    "print('accuracy=',scores[1])"
   ]
  },
  {
   "cell_type": "markdown",
   "metadata": {
    "colab_type": "text",
    "id": "sYeIVedLiB_D"
   },
   "source": [
    "# (9) Prediction"
   ]
  },
  {
   "cell_type": "code",
   "execution_count": 17,
   "metadata": {
    "colab": {},
    "colab_type": "code",
    "id": "3R_X4hO2iB_E"
   },
   "outputs": [],
   "source": [
    "predictions = (model.predict(x_test) > 0.5).astype(\"int32\")"
   ]
  },
  {
   "cell_type": "code",
   "execution_count": 18,
   "metadata": {
    "colab": {},
    "colab_type": "code",
    "id": "7Hwq3xCViB_F"
   },
   "outputs": [],
   "source": [
    "def plot_images_labels_prediction(images,labels,prediction,\n",
    "                                  idx,num=10):\n",
    "    fig = plt.gcf()\n",
    "    fig.set_size_inches(12, 14)\n",
    "    if num>25: num=25 \n",
    "    for i in range(0, num):\n",
    "        ax=plt.subplot(5,5, 1+i)\n",
    "        ax.imshow(images[idx], cmap='binary')\n",
    "        title= \"label=\" +str(labels[idx])\n",
    "        if len(prediction)>0:\n",
    "            title+=\",predict=\"+str(prediction[idx]) \n",
    "            \n",
    "        ax.set_title(title,fontsize=10) \n",
    "        ax.set_xticks([]);ax.set_yticks([])        \n",
    "        idx+=1 \n",
    "    plt.show()"
   ]
  },
  {
   "cell_type": "code",
   "execution_count": 19,
   "metadata": {
    "colab": {
     "base_uri": "https://localhost:8080/",
     "height": 318
    },
    "colab_type": "code",
    "id": "nfwNhsESiB_I",
    "outputId": "c7e91fe4-83dc-4c38-aaaa-c5be19e47a49"
   },
   "outputs": [
    {
     "data": {
      "image/png": "[encoded data removed]",
      "text/plain": [
       "<Figure size 864x1008 with 10 Axes>"
      ]
     },
     "metadata": {},
     "output_type": "display_data"
    }
   ],
   "source": [
    "plot_images_labels_prediction(x_test,y_test,\n",
    "                              predictions,idx=320)"
   ]
  },
  {
   "cell_type": "markdown",
   "metadata": {
    "colab_type": "text",
    "id": "7KXP7Dz4iB_M"
   },
   "source": [
    "# (10) Confusion matrix"
   ]
  },
  {
   "cell_type": "code",
   "execution_count": 20,
   "metadata": {
    "colab": {},
    "colab_type": "code",
    "id": "XFYNFUdfA17Q"
   },
   "outputs": [],
   "source": [
    "# save and load weights\n",
    "model.save_weights('my_model_weights.h5')\n",
    "model.load_weights('my_model_weights.h5')"
   ]
  },
  {
   "cell_type": "code",
   "execution_count": 21,
   "metadata": {
    "colab": {
     "base_uri": "https://localhost:8080/",
     "height": 442
    },
    "colab_type": "code",
    "id": "aIAb1_73iB_R",
    "outputId": "73d6f242-59d5-44db-cff9-a704f905c861"
   },
   "outputs": [
    {
     "name": "stdout",
     "output_type": "stream",
     "text": [
      "Model: \"sequential_2\"\n",
      "_________________________________________________________________\n",
      " Layer (type)                Output Shape              Param #   \n",
      "=================================================================\n",
      " sequential (Sequential)     (None, 28, 28, 1)         0         \n",
      "                                                                 \n",
      " conv2d_2 (Conv2D)           (None, 26, 26, 32)        320       \n",
      "                                                                 \n",
      " max_pooling2d_2 (MaxPooling  (None, 13, 13, 32)       0         \n",
      " 2D)                                                             \n",
      "                                                                 \n",
      " conv2d_3 (Conv2D)           (None, 11, 11, 64)        18496     \n",
      "                                                                 \n",
      " max_pooling2d_3 (MaxPooling  (None, 5, 5, 64)         0         \n",
      " 2D)                                                             \n",
      "                                                                 \n",
      " flatten_1 (Flatten)         (None, 1600)              0         \n",
      "                                                                 \n",
      " dense_2 (Dense)             (None, 128)               204928    \n",
      "                                                                 \n",
      " dense_3 (Dense)             (None, 64)                8256      \n",
      "                                                                 \n",
      " dense_4 (Dense)             (None, 10)                650       \n",
      "                                                                 \n",
      "=================================================================\n",
      "Total params: 232,650\n",
      "Trainable params: 232,650\n",
      "Non-trainable params: 0\n",
      "_________________________________________________________________\n"
     ]
    }
   ],
   "source": [
    "model.save('my_model.h5')  \n",
    "del model  # deletes the existing model\n",
    "\n",
    "from keras.models import load_model\n",
    "model = load_model('my_model.h5')\n",
    "model.summary()"
   ]
  }
 ],
 "metadata": {
  "accelerator": "GPU",
  "colab": {
   "name": "for_camera_train_001.ipynb",
   "provenance": [],
   "version": "0.3.2"
  },
  "kernelspec": {
   "display_name": "Python 3",
   "language": "python",
   "name": "python3"
  },
  "language_info": {
   "codemirror_mode": {
    "name": "ipython",
    "version": 3
   },
   "file_extension": ".py",
   "mimetype": "text/x-python",
   "name": "python",
   "nbconvert_exporter": "python",
   "pygments_lexer": "ipython3",
   "version": "3.8.12"
  }
 },
 "nbformat": 4,
 "nbformat_minor": 1
}
