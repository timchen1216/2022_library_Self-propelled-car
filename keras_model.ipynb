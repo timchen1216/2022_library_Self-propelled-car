{
 "cells": [
  {
   "cell_type": "markdown",
   "metadata": {
    "colab_type": "text",
    "id": "N-S3jKKEiB95"
   },
   "source": [
    "# How to use Google Colab\n",
    "#  "
   ]
  },
  {
   "cell_type": "markdown",
   "metadata": {
    "colab_type": "text",
    "id": "Z0wrVvxyiB97"
   },
   "source": [
    "### MNIST, Convolutional Neural Network (CNN)\n",
    "\n",
    "### Step - 3\n",
    "\n",
    "### MNIST由手寫阿拉伯數字組成，包含60,000個訓練樣本和10,000個測試樣本。\n",
    "\n",
    "##### data from: https://keras.io/datasets/#mnist-database-of-handwritten-digits\n",
    "##### code modified from: TensorFlow+Keras[深度學習]人工智慧實務應用 / 林大貴\n"
   ]
  },
  {
   "cell_type": "markdown",
   "metadata": {
    "colab_type": "text",
    "id": "88Yhbd6XiB98"
   },
   "source": [
    "# (1) Import the data from Keras"
   ]
  },
  {
   "cell_type": "code",
   "execution_count": 1,
   "metadata": {
    "colab": {},
    "colab_type": "code",
    "id": "4NHDi4ghiB9-",
    "scrolled": true
   },
   "outputs": [],
   "source": [
    "from keras.utils import np_utils\n",
    "import matplotlib.pyplot as plt\n",
    "import pandas as pd\n",
    "import numpy as np\n",
    "np.random.seed(3)"
   ]
  },
  {
   "cell_type": "code",
   "execution_count": 2,
   "metadata": {
    "colab": {
     "base_uri": "https://localhost:8080/",
     "height": 34
    },
    "colab_type": "code",
    "id": "bJKPj9xKiB-H",
    "outputId": "f84edb3e-e2ce-48f0-8511-662cae9793c0"
   },
   "outputs": [
    {
     "name": "stdout",
     "output_type": "stream",
     "text": [
      "(60000, 28, 28)\n",
      "(60000,)\n",
      "(10000, 28, 28)\n",
      "(10000,)\n"
     ]
    }
   ],
   "source": [
    "# read in the file\n",
    "import keras\n",
    "import tensorflow as tf \n",
    "\n",
    "tf.keras.datasets.mnist.load_data(path=\"mnist.npz\")\n",
    "(x_train, y_train), (x_test, y_test) = keras.datasets.mnist.load_data()\n",
    "\n",
    "print(x_train.shape)\n",
    "print(y_train.shape)\n",
    "print(x_test.shape)\n",
    "print(y_test.shape)"
   ]
  },
  {
   "cell_type": "markdown",
   "metadata": {
    "colab_type": "text",
    "id": "IG_aNFEuiB-K"
   },
   "source": [
    "# (2) View the first 10 images and labels"
   ]
  },
  {
   "cell_type": "code",
   "execution_count": 3,
   "metadata": {
    "colab": {
     "base_uri": "https://localhost:8080/",
     "height": 318
    },
    "colab_type": "code",
    "id": "rFH2lowXiB-L",
    "outputId": "55ee921c-83f4-464b-ecda-1b7f9770b03e"
   },
   "outputs": [
    {
     "data": {
      "image/png": "[encoded data removed]",
      "text/plain": [
       "<Figure size 864x1008 with 10 Axes>"
      ]
     },
     "metadata": {},
     "output_type": "display_data"
    }
   ],
   "source": [
    "fig = plt.gcf()\n",
    "fig.set_size_inches(12,14)\n",
    "\n",
    "for i in range(0,10):\n",
    "    ax=plt.subplot(5,5,1+i)\n",
    "    ax.imshow(x_train[i], cmap='binary')\n",
    "    title= \"label=\" +str(y_train[i])\n",
    "    ax.set_title(title,fontsize=10) \n",
    "    ax.set_xticks([]);ax.set_yticks([])        \n",
    "plt.show()"
   ]
  },
  {
   "cell_type": "markdown",
   "metadata": {
    "colab_type": "text",
    "id": "cgntcnA3iB-O"
   },
   "source": [
    "# (3) Convert 2-D image to nx28x28x1 array, normalize the numbers"
   ]
  },
  {
   "cell_type": "code",
   "execution_count": 4,
   "metadata": {
    "colab": {},
    "colab_type": "code",
    "id": "QsLvVG6PiB-P"
   },
   "outputs": [],
   "source": [
    "# convert 2-D 28x28 image to 4-D nx28x28x1  array\n",
    "\n",
    "x_Train4D=x_train.reshape(x_train.shape[0],28,28,1).astype('float32')\n",
    "x_Test4D=x_test.reshape(x_test.shape[0],28,28,1).astype('float32')"
   ]
  },
  {
   "cell_type": "code",
   "execution_count": 5,
   "metadata": {
    "colab": {
     "base_uri": "https://localhost:8080/",
     "height": 51
    },
    "colab_type": "code",
    "id": "ak17dtJOiB-R",
    "outputId": "00419a76-cfcc-46ed-933c-7126a749000d"
   },
   "outputs": [
    {
     "name": "stdout",
     "output_type": "stream",
     "text": [
      "(60000, 28, 28, 1)\n",
      "(10000, 28, 28, 1)\n"
     ]
    }
   ],
   "source": [
    "# normalize the image numbers to 0~1\n",
    "\n",
    "x_Train4D_normalize = x_Train4D / 255\n",
    "x_Test4D_normalize = x_Test4D / 255\n",
    "print(x_Train4D_normalize.shape)\n",
    "print(x_Test4D_normalize.shape)"
   ]
  },
  {
   "cell_type": "markdown",
   "metadata": {
    "colab_type": "text",
    "id": "9NVmskhZiB-U"
   },
   "source": [
    "# (4) Convert label number to one-hot encoding"
   ]
  },
  {
   "cell_type": "code",
   "execution_count": 6,
   "metadata": {
    "colab": {
     "base_uri": "https://localhost:8080/",
     "height": 51
    },
    "colab_type": "code",
    "id": "KHam7D5MiB-V",
    "outputId": "69ac8686-388d-4bff-9158-d41c147b942b"
   },
   "outputs": [
    {
     "name": "stdout",
     "output_type": "stream",
     "text": [
      "(60000, 10)\n",
      "(10000, 10)\n"
     ]
    }
   ],
   "source": [
    "# convert label numbers to one-hot encoding\n",
    "\n",
    "y_TrainOneHot = np_utils.to_categorical(y_train)\n",
    "y_TestOneHot = np_utils.to_categorical(y_test)\n",
    "print(y_TrainOneHot.shape)\n",
    "print(y_TestOneHot.shape)"
   ]
  },
  {
   "cell_type": "markdown",
   "metadata": {
    "colab_type": "text",
    "collapsed": true,
    "id": "IjVdsDWqiB-a"
   },
   "source": [
    "# (5) Use a Convolutional Neural Network"
   ]
  },
  {
   "cell_type": "code",
   "execution_count": 7,
   "metadata": {
    "colab": {},
    "colab_type": "code",
    "id": "j-cVM2PMiB-a"
   },
   "outputs": [],
   "source": [
    "from tensorflow.keras import layers"
   ]
  },
  {
   "cell_type": "code",
   "execution_count": 8,
   "metadata": {},
   "outputs": [],
   "source": [
    "data_augmentation = tf.keras.Sequential([\n",
    "  layers.RandomRotation(0.3),\n",
    "])"
   ]
  },
  {
   "cell_type": "code",
   "execution_count": 9,
   "metadata": {
    "colab": {},
    "colab_type": "code",
    "id": "LGzyg9FEiB-d"
   },
   "outputs": [],
   "source": [
    "model = tf.keras.Sequential([\n",
    "    data_augmentation,\n",
    "    layers.Conv2D(filters=16, kernel_size=(5, 5), padding='same',\n",
    "                  input_shape=(28, 28, 1), activation='relu'),\n",
    "    layers.MaxPooling2D(pool_size=(2, 2)),\n",
    "    layers.Conv2D(filters=36, kernel_size=(5, 5),\n",
    "                  padding='same', activation='relu'),\n",
    "    layers.MaxPooling2D(pool_size=(2, 2)),\n",
    "    layers.Dropout(0.25),\n",
    "    layers.Flatten(),\n",
    "    layers.Dense(128, activation='relu'),\n",
    "    layers.Dropout(0.5),\n",
    "    layers.Dense(10,activation='softmax')\n",
    "])\n",
    "\n"
   ]
  },
  {
   "cell_type": "code",
   "execution_count": 10,
   "metadata": {
    "colab": {
     "base_uri": "https://localhost:8080/",
     "height": 459
    },
    "colab_type": "code",
    "id": "bPYY0gb2iB-v",
    "outputId": "f4d7e764-73cc-4bdf-fb68-f2017def61d4"
   },
   "outputs": [
    {
     "name": "stdout",
     "output_type": "stream",
     "text": [
      "Model: \"sequential_1\"\n",
      "_________________________________________________________________\n",
      " Layer (type)                Output Shape              Param #   \n",
      "=================================================================\n",
      " sequential (Sequential)     (None, 28, 28, 1)         0         \n",
      "                                                                 \n",
      " conv2d (Conv2D)             (None, 28, 28, 16)        416       \n",
      "                                                                 \n",
      " max_pooling2d (MaxPooling2D  (None, 14, 14, 16)       0         \n",
      " )                                                               \n",
      "                                                                 \n",
      " conv2d_1 (Conv2D)           (None, 14, 14, 36)        14436     \n",
      "                                                                 \n",
      " max_pooling2d_1 (MaxPooling  (None, 7, 7, 36)         0         \n",
      " 2D)                                                             \n",
      "                                                                 \n",
      " dropout (Dropout)           (None, 7, 7, 36)          0         \n",
      "                                                                 \n",
      " flatten (Flatten)           (None, 1764)              0         \n",
      "                                                                 \n",
      " dense (Dense)               (None, 128)               225920    \n",
      "                                                                 \n",
      " dropout_1 (Dropout)         (None, 128)               0         \n",
      "                                                                 \n",
      " dense_1 (Dense)             (None, 10)                1290      \n",
      "                                                                 \n",
      "=================================================================\n",
      "Total params: 242,062\n",
      "Trainable params: 242,062\n",
      "Non-trainable params: 0\n",
      "_________________________________________________________________\n",
      "None\n"
     ]
    }
   ],
   "source": [
    "input_shape = (None, 28, 28, 1)\n",
    "model.build(input_shape)\n",
    "print(model.summary())\n"
   ]
  },
  {
   "cell_type": "markdown",
   "metadata": {
    "colab_type": "text",
    "id": "lps55lvXiB-y"
   },
   "source": [
    "# (6) Model training"
   ]
  },
  {
   "cell_type": "code",
   "execution_count": 11,
   "metadata": {
    "colab": {},
    "colab_type": "code",
    "id": "Li6DsK-hiB-z"
   },
   "outputs": [],
   "source": [
    "model.compile(loss='categorical_crossentropy',\n",
    "              optimizer='adam',metrics=['accuracy']) "
   ]
  },
  {
   "cell_type": "code",
   "execution_count": 12,
   "metadata": {
    "colab": {
     "base_uri": "https://localhost:8080/",
     "height": 1734
    },
    "colab_type": "code",
    "id": "WHV_-sKeiB-3",
    "outputId": "cdd9a518-b634-4a28-f37d-7b6efcea57f7"
   },
   "outputs": [
    {
     "name": "stdout",
     "output_type": "stream",
     "text": [
      "Epoch 1/50\n",
      "160/160 - 15s - loss: 1.0791 - accuracy: 0.6385 - val_loss: 0.2878 - val_accuracy: 0.9146 - 15s/epoch - 92ms/step\n",
      "Epoch 2/50\n",
      "160/160 - 13s - loss: 0.4755 - accuracy: 0.8527 - val_loss: 0.1918 - val_accuracy: 0.9403 - 13s/epoch - 80ms/step\n",
      "Epoch 3/50\n",
      "160/160 - 13s - loss: 0.3657 - accuracy: 0.8889 - val_loss: 0.1419 - val_accuracy: 0.9563 - 13s/epoch - 82ms/step\n",
      "Epoch 4/50\n",
      "160/160 - 13s - loss: 0.3051 - accuracy: 0.9068 - val_loss: 0.1281 - val_accuracy: 0.9578 - 13s/epoch - 80ms/step\n",
      "Epoch 5/50\n",
      "160/160 - 13s - loss: 0.2680 - accuracy: 0.9186 - val_loss: 0.1143 - val_accuracy: 0.9632 - 13s/epoch - 84ms/step\n",
      "Epoch 6/50\n",
      "160/160 - 13s - loss: 0.2439 - accuracy: 0.9257 - val_loss: 0.0980 - val_accuracy: 0.9684 - 13s/epoch - 82ms/step\n",
      "Epoch 7/50\n",
      "160/160 - 13s - loss: 0.2238 - accuracy: 0.9326 - val_loss: 0.0965 - val_accuracy: 0.9703 - 13s/epoch - 82ms/step\n",
      "Epoch 8/50\n",
      "160/160 - 14s - loss: 0.2170 - accuracy: 0.9355 - val_loss: 0.0881 - val_accuracy: 0.9718 - 14s/epoch - 85ms/step\n",
      "Epoch 9/50\n",
      "160/160 - 13s - loss: 0.2016 - accuracy: 0.9404 - val_loss: 0.0809 - val_accuracy: 0.9749 - 13s/epoch - 84ms/step\n",
      "Epoch 10/50\n",
      "160/160 - 13s - loss: 0.1933 - accuracy: 0.9423 - val_loss: 0.0812 - val_accuracy: 0.9746 - 13s/epoch - 81ms/step\n",
      "Epoch 11/50\n",
      "160/160 - 13s - loss: 0.1841 - accuracy: 0.9447 - val_loss: 0.0728 - val_accuracy: 0.9778 - 13s/epoch - 80ms/step\n",
      "Epoch 12/50\n",
      "160/160 - 13s - loss: 0.1757 - accuracy: 0.9480 - val_loss: 0.0723 - val_accuracy: 0.9769 - 13s/epoch - 81ms/step\n",
      "Epoch 13/50\n",
      "160/160 - 14s - loss: 0.1679 - accuracy: 0.9504 - val_loss: 0.0796 - val_accuracy: 0.9756 - 14s/epoch - 86ms/step\n",
      "Epoch 14/50\n",
      "160/160 - 13s - loss: 0.1695 - accuracy: 0.9507 - val_loss: 0.0717 - val_accuracy: 0.9782 - 13s/epoch - 84ms/step\n",
      "Epoch 15/50\n",
      "160/160 - 13s - loss: 0.1593 - accuracy: 0.9521 - val_loss: 0.0671 - val_accuracy: 0.9805 - 13s/epoch - 83ms/step\n",
      "Epoch 16/50\n",
      "160/160 - 13s - loss: 0.1553 - accuracy: 0.9531 - val_loss: 0.0673 - val_accuracy: 0.9798 - 13s/epoch - 82ms/step\n",
      "Epoch 17/50\n",
      "160/160 - 13s - loss: 0.1555 - accuracy: 0.9543 - val_loss: 0.0607 - val_accuracy: 0.9809 - 13s/epoch - 83ms/step\n",
      "Epoch 18/50\n",
      "160/160 - 13s - loss: 0.1472 - accuracy: 0.9559 - val_loss: 0.0664 - val_accuracy: 0.9793 - 13s/epoch - 84ms/step\n",
      "Epoch 19/50\n",
      "160/160 - 13s - loss: 0.1488 - accuracy: 0.9554 - val_loss: 0.0621 - val_accuracy: 0.9819 - 13s/epoch - 83ms/step\n",
      "Epoch 20/50\n",
      "160/160 - 14s - loss: 0.1438 - accuracy: 0.9567 - val_loss: 0.0616 - val_accuracy: 0.9823 - 14s/epoch - 88ms/step\n",
      "Epoch 21/50\n",
      "160/160 - 13s - loss: 0.1443 - accuracy: 0.9553 - val_loss: 0.0676 - val_accuracy: 0.9808 - 13s/epoch - 83ms/step\n",
      "Epoch 22/50\n",
      "160/160 - 12s - loss: 0.1408 - accuracy: 0.9573 - val_loss: 0.0563 - val_accuracy: 0.9830 - 12s/epoch - 78ms/step\n",
      "Epoch 23/50\n",
      "160/160 - 13s - loss: 0.1357 - accuracy: 0.9593 - val_loss: 0.0569 - val_accuracy: 0.9827 - 13s/epoch - 79ms/step\n",
      "Epoch 24/50\n",
      "160/160 - 13s - loss: 0.1362 - accuracy: 0.9596 - val_loss: 0.0587 - val_accuracy: 0.9827 - 13s/epoch - 81ms/step\n",
      "Epoch 25/50\n",
      "160/160 - 13s - loss: 0.1351 - accuracy: 0.9595 - val_loss: 0.0582 - val_accuracy: 0.9827 - 13s/epoch - 81ms/step\n",
      "Epoch 26/50\n",
      "160/160 - 13s - loss: 0.1290 - accuracy: 0.9611 - val_loss: 0.0580 - val_accuracy: 0.9823 - 13s/epoch - 82ms/step\n",
      "Epoch 27/50\n",
      "160/160 - 14s - loss: 0.1315 - accuracy: 0.9606 - val_loss: 0.0572 - val_accuracy: 0.9825 - 14s/epoch - 85ms/step\n",
      "Epoch 28/50\n",
      "160/160 - 14s - loss: 0.1285 - accuracy: 0.9613 - val_loss: 0.0520 - val_accuracy: 0.9850 - 14s/epoch - 85ms/step\n",
      "Epoch 29/50\n",
      "160/160 - 13s - loss: 0.1211 - accuracy: 0.9643 - val_loss: 0.0532 - val_accuracy: 0.9842 - 13s/epoch - 83ms/step\n",
      "Epoch 30/50\n",
      "160/160 - 14s - loss: 0.1239 - accuracy: 0.9622 - val_loss: 0.0578 - val_accuracy: 0.9828 - 14s/epoch - 85ms/step\n",
      "Epoch 31/50\n",
      "160/160 - 14s - loss: 0.1246 - accuracy: 0.9628 - val_loss: 0.0557 - val_accuracy: 0.9845 - 14s/epoch - 86ms/step\n",
      "Epoch 32/50\n",
      "160/160 - 14s - loss: 0.1213 - accuracy: 0.9636 - val_loss: 0.0542 - val_accuracy: 0.9838 - 14s/epoch - 86ms/step\n",
      "Epoch 33/50\n",
      "160/160 - 13s - loss: 0.1186 - accuracy: 0.9650 - val_loss: 0.0564 - val_accuracy: 0.9833 - 13s/epoch - 84ms/step\n",
      "Epoch 34/50\n",
      "160/160 - 13s - loss: 0.1193 - accuracy: 0.9643 - val_loss: 0.0543 - val_accuracy: 0.9846 - 13s/epoch - 84ms/step\n",
      "Epoch 35/50\n",
      "160/160 - 13s - loss: 0.1219 - accuracy: 0.9639 - val_loss: 0.0544 - val_accuracy: 0.9850 - 13s/epoch - 84ms/step\n",
      "Epoch 36/50\n",
      "160/160 - 13s - loss: 0.1183 - accuracy: 0.9646 - val_loss: 0.0516 - val_accuracy: 0.9847 - 13s/epoch - 83ms/step\n",
      "Epoch 37/50\n",
      "160/160 - 14s - loss: 0.1164 - accuracy: 0.9649 - val_loss: 0.0520 - val_accuracy: 0.9857 - 14s/epoch - 86ms/step\n",
      "Epoch 38/50\n",
      "160/160 - 14s - loss: 0.1167 - accuracy: 0.9644 - val_loss: 0.0516 - val_accuracy: 0.9851 - 14s/epoch - 86ms/step\n",
      "Epoch 39/50\n",
      "160/160 - 13s - loss: 0.1117 - accuracy: 0.9671 - val_loss: 0.0520 - val_accuracy: 0.9849 - 13s/epoch - 83ms/step\n",
      "Epoch 40/50\n",
      "160/160 - 13s - loss: 0.1180 - accuracy: 0.9649 - val_loss: 0.0495 - val_accuracy: 0.9857 - 13s/epoch - 83ms/step\n",
      "Epoch 41/50\n",
      "160/160 - 13s - loss: 0.1134 - accuracy: 0.9656 - val_loss: 0.0510 - val_accuracy: 0.9855 - 13s/epoch - 84ms/step\n",
      "Epoch 42/50\n",
      "160/160 - 14s - loss: 0.1067 - accuracy: 0.9679 - val_loss: 0.0490 - val_accuracy: 0.9858 - 14s/epoch - 85ms/step\n",
      "Epoch 43/50\n",
      "160/160 - 13s - loss: 0.1105 - accuracy: 0.9679 - val_loss: 0.0477 - val_accuracy: 0.9853 - 13s/epoch - 84ms/step\n",
      "Epoch 44/50\n",
      "160/160 - 14s - loss: 0.1086 - accuracy: 0.9670 - val_loss: 0.0568 - val_accuracy: 0.9822 - 14s/epoch - 85ms/step\n",
      "Epoch 45/50\n",
      "160/160 - 14s - loss: 0.1072 - accuracy: 0.9679 - val_loss: 0.0471 - val_accuracy: 0.9856 - 14s/epoch - 87ms/step\n",
      "Epoch 46/50\n",
      "160/160 - 14s - loss: 0.1076 - accuracy: 0.9686 - val_loss: 0.0451 - val_accuracy: 0.9861 - 14s/epoch - 85ms/step\n",
      "Epoch 47/50\n",
      "160/160 - 14s - loss: 0.1089 - accuracy: 0.9676 - val_loss: 0.0466 - val_accuracy: 0.9858 - 14s/epoch - 85ms/step\n",
      "Epoch 48/50\n",
      "160/160 - 13s - loss: 0.1055 - accuracy: 0.9686 - val_loss: 0.0477 - val_accuracy: 0.9867 - 13s/epoch - 83ms/step\n",
      "Epoch 49/50\n",
      "160/160 - 14s - loss: 0.1030 - accuracy: 0.9688 - val_loss: 0.0453 - val_accuracy: 0.9870 - 14s/epoch - 86ms/step\n",
      "Epoch 50/50\n",
      "160/160 - 13s - loss: 0.1035 - accuracy: 0.9690 - val_loss: 0.0485 - val_accuracy: 0.9855 - 13s/epoch - 83ms/step\n"
     ]
    }
   ],
   "source": [
    "train_history=model.fit(x=x_Train4D_normalize, \n",
    "                        y=y_TrainOneHot,validation_split=0.2, \n",
    "                        epochs=50, batch_size=300,verbose=2)"
   ]
  },
  {
   "cell_type": "markdown",
   "metadata": {
    "colab_type": "text",
    "id": "wjur8EBwiB-5"
   },
   "source": [
    "# (7) Training history"
   ]
  },
  {
   "cell_type": "code",
   "execution_count": 13,
   "metadata": {
    "colab": {},
    "colab_type": "code",
    "id": "9TnuMkBciB-6"
   },
   "outputs": [],
   "source": [
    "def show_train_history(train_history,train,validation):\n",
    "    plt.plot(train_history.history[train])\n",
    "    plt.plot(train_history.history[validation])\n",
    "    plt.title('Train History')\n",
    "    plt.ylabel(train)\n",
    "    plt.xlabel('Epoch')\n",
    "    plt.legend(['train', 'validation'], loc='upper left')\n",
    "    plt.show()"
   ]
  },
  {
   "cell_type": "code",
   "execution_count": 14,
   "metadata": {
    "colab": {
     "base_uri": "https://localhost:8080/",
     "height": 376
    },
    "colab_type": "code",
    "id": "DG8q8QKJiB-8",
    "outputId": "ebf6dc05-7baa-4470-f1ee-08c42b449c07"
   },
   "outputs": [
    {
     "data": {
      "image/png": "[encoded data removed]",
      "text/plain": [
       "<Figure size 432x288 with 1 Axes>"
      ]
     },
     "metadata": {
      "needs_background": "light"
     },
     "output_type": "display_data"
    }
   ],
   "source": [
    "show_train_history(train_history,'accuracy','val_accuracy')"
   ]
  },
  {
   "cell_type": "code",
   "execution_count": 15,
   "metadata": {
    "colab": {
     "base_uri": "https://localhost:8080/",
     "height": 376
    },
    "colab_type": "code",
    "id": "NHZSgQl1iB--",
    "outputId": "50f1a852-173c-40b8-8d7f-97686311bccf"
   },
   "outputs": [
    {
     "data": {
      "image/png": "[encoded data removed]",
      "text/plain": [
       "<Figure size 432x288 with 1 Axes>"
      ]
     },
     "metadata": {
      "needs_background": "light"
     },
     "output_type": "display_data"
    }
   ],
   "source": [
    "show_train_history(train_history,'loss','val_loss')"
   ]
  },
  {
   "cell_type": "markdown",
   "metadata": {
    "colab_type": "text",
    "id": "UAsBzQe3iB_A"
   },
   "source": [
    "# (8) Accuracy"
   ]
  },
  {
   "cell_type": "code",
   "execution_count": 16,
   "metadata": {
    "colab": {
     "base_uri": "https://localhost:8080/",
     "height": 68
    },
    "colab_type": "code",
    "id": "4y7ZkS_giB_B",
    "outputId": "b6b0bb53-01e5-4aa8-8d2a-de0fc96bc2db"
   },
   "outputs": [
    {
     "name": "stdout",
     "output_type": "stream",
     "text": [
      "313/313 [==============================] - 1s 4ms/step - loss: 0.0437 - accuracy: 0.9851\n",
      "\n",
      "accuracy= 0.9850999712944031\n"
     ]
    }
   ],
   "source": [
    "scores = model.evaluate(x_Test4D_normalize, y_TestOneHot)\n",
    "print()\n",
    "print('accuracy=',scores[1])"
   ]
  },
  {
   "cell_type": "markdown",
   "metadata": {
    "colab_type": "text",
    "id": "sYeIVedLiB_D"
   },
   "source": [
    "# (9) Prediction"
   ]
  },
  {
   "cell_type": "code",
   "execution_count": 17,
   "metadata": {
    "colab": {},
    "colab_type": "code",
    "id": "3R_X4hO2iB_E"
   },
   "outputs": [],
   "source": [
    "predictions = (model.predict(x_test) > 0.5).astype(\"int32\")"
   ]
  },
  {
   "cell_type": "code",
   "execution_count": 18,
   "metadata": {
    "colab": {},
    "colab_type": "code",
    "id": "7Hwq3xCViB_F"
   },
   "outputs": [],
   "source": [
    "def plot_images_labels_prediction(images,labels,prediction,\n",
    "                                  idx,num=10):\n",
    "    fig = plt.gcf()\n",
    "    fig.set_size_inches(12, 14)\n",
    "    if num>25: num=25 \n",
    "    for i in range(0, num):\n",
    "        ax=plt.subplot(5,5, 1+i)\n",
    "        ax.imshow(images[idx], cmap='binary')\n",
    "        title= \"label=\" +str(labels[idx])\n",
    "        if len(prediction)>0:\n",
    "            title+=\",predict=\"+str(prediction[idx]) \n",
    "            \n",
    "        ax.set_title(title,fontsize=10) \n",
    "        ax.set_xticks([]);ax.set_yticks([])        \n",
    "        idx+=1 \n",
    "    plt.show()"
   ]
  },
  {
   "cell_type": "code",
   "execution_count": 19,
   "metadata": {
    "colab": {
     "base_uri": "https://localhost:8080/",
     "height": 318
    },
    "colab_type": "code",
    "id": "nfwNhsESiB_I",
    "outputId": "c7e91fe4-83dc-4c38-aaaa-c5be19e47a49"
   },
   "outputs": [
    {
     "data": {
      "image/png": "[encoded data removed]",
      "text/plain": [
       "<Figure size 864x1008 with 10 Axes>"
      ]
     },
     "metadata": {},
     "output_type": "display_data"
    }
   ],
   "source": [
    "plot_images_labels_prediction(x_test,y_test,\n",
    "                              predictions,idx=320)"
   ]
  },
  {
   "cell_type": "markdown",
   "metadata": {
    "colab_type": "text",
    "id": "7KXP7Dz4iB_M"
   },
   "source": [
    "# (10) Confusion matrix"
   ]
  },
  {
   "cell_type": "code",
   "execution_count": 20,
   "metadata": {
    "colab": {},
    "colab_type": "code",
    "id": "XFYNFUdfA17Q"
   },
   "outputs": [],
   "source": [
    "# save and load weights\n",
    "model.save_weights('my_model_weights.h5')\n",
    "model.load_weights('my_model_weights.h5')"
   ]
  },
  {
   "cell_type": "code",
   "execution_count": 21,
   "metadata": {
    "colab": {
     "base_uri": "https://localhost:8080/",
     "height": 442
    },
    "colab_type": "code",
    "id": "aIAb1_73iB_R",
    "outputId": "73d6f242-59d5-44db-cff9-a704f905c861"
   },
   "outputs": [
    {
     "name": "stdout",
     "output_type": "stream",
     "text": [
      "Model: \"sequential_1\"\n",
      "_________________________________________________________________\n",
      " Layer (type)                Output Shape              Param #   \n",
      "=================================================================\n",
      " sequential (Sequential)     (None, 28, 28, 1)         0         \n",
      "                                                                 \n",
      " conv2d (Conv2D)             (None, 28, 28, 16)        416       \n",
      "                                                                 \n",
      " max_pooling2d (MaxPooling2D  (None, 14, 14, 16)       0         \n",
      " )                                                               \n",
      "                                                                 \n",
      " conv2d_1 (Conv2D)           (None, 14, 14, 36)        14436     \n",
      "                                                                 \n",
      " max_pooling2d_1 (MaxPooling  (None, 7, 7, 36)         0         \n",
      " 2D)                                                             \n",
      "                                                                 \n",
      " dropout (Dropout)           (None, 7, 7, 36)          0         \n",
      "                                                                 \n",
      " flatten (Flatten)           (None, 1764)              0         \n",
      "                                                                 \n",
      " dense (Dense)               (None, 128)               225920    \n",
      "                                                                 \n",
      " dropout_1 (Dropout)         (None, 128)               0         \n",
      "                                                                 \n",
      " dense_1 (Dense)             (None, 10)                1290      \n",
      "                                                                 \n",
      "=================================================================\n",
      "Total params: 242,062\n",
      "Trainable params: 242,062\n",
      "Non-trainable params: 0\n",
      "_________________________________________________________________\n"
     ]
    }
   ],
   "source": [
    "model.save('my_model.h5')  \n",
    "del model  # deletes the existing model\n",
    "\n",
    "from keras.models import load_model\n",
    "model = load_model('my_model.h5')\n",
    "model.summary()"
   ]
  }
 ],
 "metadata": {
  "accelerator": "GPU",
  "colab": {
   "name": "for_camera_train_001.ipynb",
   "provenance": [],
   "version": "0.3.2"
  },
  "kernelspec": {
   "display_name": "Python 3",
   "language": "python",
   "name": "python3"
  },
  "language_info": {
   "codemirror_mode": {
    "name": "ipython",
    "version": 3
   },
   "file_extension": ".py",
   "mimetype": "text/x-python",
   "name": "python",
   "nbconvert_exporter": "python",
   "pygments_lexer": "ipython3",
   "version": "3.8.12"
  }
 },
 "nbformat": 4,
 "nbformat_minor": 1
}
