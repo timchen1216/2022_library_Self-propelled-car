{
 "cells": [
  {
   "cell_type": "code",
   "execution_count": 1,
   "metadata": {},
   "outputs": [],
   "source": [
    "import matplotlib.pyplot as plt\n",
    "import matplotlib.image as mpimg\n",
    "import numpy as np\n",
    "import cv2\n",
    "import time\n",
    "\n",
    "from keras.models import load_model\n",
    "model = load_model('my_model.h5')\n",
    "#model.summary()\n",
    "model.load_weights('my_model_weights.h5')\n",
    "\n",
    "#如果 load_model 有錯誤訊息, 請檢查 keras 和 tensorflow 的版本.\n",
    "#建議使用 keras 2.2.4, tensorflow 1.8.0 or 1.12.0"
   ]
  },
  {
   "cell_type": "code",
   "execution_count": 2,
   "metadata": {
    "scrolled": true
   },
   "outputs": [
    {
     "name": "stdout",
     "output_type": "stream",
     "text": [
      "Image Size: 640 x 480\n",
      "True True\n",
      "./numbers/number_3.jpg\n",
      "None\n"
     ]
    },
    {
     "ename": "error",
     "evalue": "OpenCV(4.5.5) D:\\a\\opencv-python\\opencv-python\\opencv\\modules\\imgproc\\src\\resize.cpp:4052: error: (-215:Assertion failed) !ssize.empty() in function 'cv::resize'\n",
     "output_type": "error",
     "traceback": [
      "\u001b[1;31m---------------------------------------------------------------------------\u001b[0m",
      "\u001b[1;31merror\u001b[0m                                     Traceback (most recent call last)",
      "\u001b[1;32m~\\AppData\\Local\\Temp/ipykernel_1656/1965462308.py\u001b[0m in \u001b[0;36m<module>\u001b[1;34m\u001b[0m\n\u001b[0;32m     49\u001b[0m     \u001b[0mimg_9\u001b[0m \u001b[1;33m=\u001b[0m \u001b[0mcv2\u001b[0m\u001b[1;33m.\u001b[0m\u001b[0mimread\u001b[0m\u001b[1;33m(\u001b[0m\u001b[1;34m'bow.png'\u001b[0m\u001b[1;33m)\u001b[0m\u001b[1;33m\u001b[0m\u001b[1;33m\u001b[0m\u001b[0m\n\u001b[0;32m     50\u001b[0m     \u001b[0mprint\u001b[0m\u001b[1;33m(\u001b[0m\u001b[0mimg_9\u001b[0m\u001b[1;33m)\u001b[0m\u001b[1;33m\u001b[0m\u001b[1;33m\u001b[0m\u001b[0m\n\u001b[1;32m---> 51\u001b[1;33m     \u001b[0mimg_10\u001b[0m \u001b[1;33m=\u001b[0m \u001b[0mcv2\u001b[0m\u001b[1;33m.\u001b[0m\u001b[0mresize\u001b[0m\u001b[1;33m(\u001b[0m\u001b[0mimg_9\u001b[0m\u001b[1;33m,\u001b[0m\u001b[1;33m(\u001b[0m\u001b[1;36m480\u001b[0m\u001b[1;33m,\u001b[0m\u001b[1;36m480\u001b[0m\u001b[1;33m)\u001b[0m\u001b[1;33m,\u001b[0m\u001b[1;36m1\u001b[0m\u001b[1;33m)\u001b[0m\u001b[1;33m\u001b[0m\u001b[1;33m\u001b[0m\u001b[0m\n\u001b[0m\u001b[0;32m     52\u001b[0m     \u001b[0mcv2\u001b[0m\u001b[1;33m.\u001b[0m\u001b[0mimshow\u001b[0m\u001b[1;33m(\u001b[0m\u001b[1;34m'inference'\u001b[0m\u001b[1;33m,\u001b[0m\u001b[0mimg_10\u001b[0m\u001b[1;33m)\u001b[0m\u001b[1;33m\u001b[0m\u001b[1;33m\u001b[0m\u001b[0m\n\u001b[0;32m     53\u001b[0m     \u001b[0mtEnd\u001b[0m \u001b[1;33m=\u001b[0m \u001b[0mtime\u001b[0m\u001b[1;33m.\u001b[0m\u001b[0mtime\u001b[0m\u001b[1;33m(\u001b[0m\u001b[1;33m)\u001b[0m \u001b[1;31m#計時結束\u001b[0m\u001b[1;33m\u001b[0m\u001b[1;33m\u001b[0m\u001b[0m\n",
      "\u001b[1;31merror\u001b[0m: OpenCV(4.5.5) D:\\a\\opencv-python\\opencv-python\\opencv\\modules\\imgproc\\src\\resize.cpp:4052: error: (-215:Assertion failed) !ssize.empty() in function 'cv::resize'\n"
     ]
    }
   ],
   "source": [
    "cap = cv2.VideoCapture(0)\n",
    "width = cap.get(cv2.CAP_PROP_FRAME_WIDTH)\n",
    "height = cap.get(cv2.CAP_PROP_FRAME_HEIGHT)\n",
    "print(\"Image Size: %d x %d\" % (width, height))\n",
    "\n",
    "while(True):\n",
    "    tStart = time.time() #計時開始\n",
    "    open = cap.isOpened()\n",
    "    ret, img_1 = cap.read()\n",
    "    print(open, ret)\n",
    "    img_2 = img_1[0:480,80:560]\n",
    "    #cv2.imshow('Camera',img_2)\n",
    "    \n",
    "    img_2_gray = cv2.cvtColor(img_2, cv2.COLOR_BGR2GRAY)\n",
    "    img_3 = 255 - img_2_gray\n",
    "    img_3 = img_3.astype('float32')\n",
    "    img_3_min = np.amin(img_3)\n",
    "    img_4 = img_3 - np.amin(img_3)\n",
    "    img_5 = 255 * img_4 / (np.amax(img_4))\n",
    "    kernel = np.ones((5,5),np.uint8)\n",
    "    img_6 = cv2.dilate(img_5,kernel,iterations = 3)\n",
    "    img_7 = cv2.resize(img_6,(28,28),1)\n",
    "    img_8 = img_6.astype('uint8')\n",
    "    #cv2.imshow('input',img_8)\n",
    "\n",
    "    #print(img_1.dtype, img_1.shape)\n",
    "    #print(img_2.dtype, img_2.shape)\n",
    "\n",
    "    x_test_image = np.reshape(img_7, (1,28,28))\n",
    "    #print(np.amax(x_test_image))\n",
    "    #print(np.amin(x_test_image))\n",
    "\n",
    "    # convert 2-D 28x28 image to 4-D nx28x28x1  array\n",
    "    x_Test4D=x_test_image.reshape(x_test_image.shape[0],28,28,1).astype('float32')\n",
    "    # normalize the image numbers to 0~1\n",
    "    x_Test4D_normalize = (x_Test4D / np.amax(x_test_image))\n",
    "    #print(x_Test4D_normalize.shape)\n",
    "    #prediction=model.predict(x_Test4D_normalize)\n",
    "    prediction = (model.predict(x_Test4D_normalize) > 0.5).astype(\"int32\")\n",
    "\n",
    "    #print(prediction.shape)\n",
    "    for i in range(prediction.shape[1]):        \n",
    "        if prediction[0,i] > 0:\n",
    "            pre_num = i\n",
    "    #print(pre_num)\n",
    "    #filename = '%s%d%s' % ('./numbers/number_', prediction, '.jpg')\n",
    "    filename = '%s%s%s' % ('./numbers/number_', str(pre_num), '.jpg')\n",
    "    print(filename)\n",
    "    img_9 = cv2.imread('bow.png')\n",
    "    print(img_9)\n",
    "    img_10 = cv2.resize(img_9,(480,480),1)\n",
    "    cv2.imshow('inference',img_10)\n",
    "    tEnd = time.time() #計時結束\n",
    "\n",
    "    if cv2.waitKey(1) & 0xFF == ord('q'):\n",
    "        cv2.imwrite('output.jpg', img_2)\n",
    "        break\n",
    "\n",
    "cap.release()\n",
    "cv2.destroyAllWindows()\n",
    "\n",
    "print('It takes %f sec for each frame' % (tEnd - tStart))"
   ]
  }
 ],
 "metadata": {
  "accelerator": "GPU",
  "colab": {
   "name": "Keras_Mnist_CNN_step_8.ipynb",
   "provenance": [],
   "version": "0.3.2"
  },
  "kernelspec": {
   "display_name": "Python 3",
   "language": "python",
   "name": "python3"
  },
  "language_info": {
   "codemirror_mode": {
    "name": "ipython",
    "version": 3
   },
   "file_extension": ".py",
   "mimetype": "text/x-python",
   "name": "python",
   "nbconvert_exporter": "python",
   "pygments_lexer": "ipython3",
   "version": "3.8.12"
  }
 },
 "nbformat": 4,
 "nbformat_minor": 1
}
