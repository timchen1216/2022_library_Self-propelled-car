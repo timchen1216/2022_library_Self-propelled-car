{
 "cells": [
  {
   "cell_type": "markdown",
   "metadata": {
    "colab_type": "text",
    "id": "N-S3jKKEiB95"
   },
   "source": [
    "# 手寫數字辨識\n",
    "#  "
   ]
  },
  {
   "cell_type": "markdown",
   "metadata": {
    "colab_type": "text",
    "id": "Z0wrVvxyiB97"
   },
   "source": [
    "### MNIST, Convolutional Neural Network (CNN)\n",
    "\n",
    "### MNIST由手寫阿拉伯數字組成，包含60,000個訓練樣本和10,000個測試樣本。\n",
    "\n",
    "##### data from: https://keras.io/datasets/#mnist-database-of-handwritten-digits\n"
   ]
  },
  {
   "cell_type": "markdown",
   "metadata": {
    "colab_type": "text",
    "id": "88Yhbd6XiB98"
   },
   "source": [
    "# (1) Import the data from Keras"
   ]
  },
  {
   "cell_type": "code",
   "execution_count": 1,
   "metadata": {
    "colab": {},
    "colab_type": "code",
    "id": "4NHDi4ghiB9-",
    "scrolled": true
   },
   "outputs": [],
   "source": [
    "from keras.utils import np_utils\n",
    "import matplotlib.pyplot as plt\n",
    "import pandas as pd\n",
    "import numpy as np\n",
    "np.random.seed(3)"
   ]
  },
  {
   "cell_type": "code",
   "execution_count": 2,
   "metadata": {
    "colab": {
     "base_uri": "https://localhost:8080/",
     "height": 34
    },
    "colab_type": "code",
    "id": "bJKPj9xKiB-H",
    "outputId": "f84edb3e-e2ce-48f0-8511-662cae9793c0"
   },
   "outputs": [
    {
     "name": "stdout",
     "output_type": "stream",
     "text": [
      "(60000, 28, 28)\n",
      "(60000,)\n",
      "(10000, 28, 28)\n",
      "(10000,)\n"
     ]
    }
   ],
   "source": [
    "# read in the file\n",
    "import keras\n",
    "import tensorflow as tf \n",
    "\n",
    "tf.keras.datasets.mnist.load_data(path=\"mnist.npz\")\n",
    "(x_train, y_train), (x_test, y_test) = keras.datasets.mnist.load_data()\n",
    "\n",
    "\n",
    "\n",
    "\n",
    "\n",
    "print(x_train.shape)\n",
    "print(y_train.shape)\n",
    "print(x_test.shape)\n",
    "print(y_test.shape)"
   ]
  },
  {
   "cell_type": "code",
   "execution_count": null,
   "metadata": {},
   "outputs": [],
   "source": []
  },
  {
   "cell_type": "markdown",
   "metadata": {
    "colab_type": "text",
    "id": "IG_aNFEuiB-K"
   },
   "source": [
    "# (2) View the first 10 images and labels"
   ]
  },
  {
   "cell_type": "code",
   "execution_count": 3,
   "metadata": {
    "colab": {
     "base_uri": "https://localhost:8080/",
     "height": 318
    },
    "colab_type": "code",
    "id": "rFH2lowXiB-L",
    "outputId": "55ee921c-83f4-464b-ecda-1b7f9770b03e"
   },
   "outputs": [
    {
     "data": {
      "image/png": "[encoded data removed]",
      "text/plain": [
       "<Figure size 864x1008 with 10 Axes>"
      ]
     },
     "metadata": {},
     "output_type": "display_data"
    }
   ],
   "source": [
    "fig = plt.gcf()\n",
    "fig.set_size_inches(12,14)\n",
    "\n",
    "for i in range(0,10):\n",
    "    ax=plt.subplot(5,5,1+i)\n",
    "    ax.imshow(x_train[i], cmap='binary')\n",
    "    title= \"label=\" +str(y_train[i])\n",
    "    ax.set_title(title,fontsize=10) \n",
    "    ax.set_xticks([]);ax.set_yticks([])        \n",
    "plt.show()"
   ]
  },
  {
   "cell_type": "markdown",
   "metadata": {
    "colab_type": "text",
    "id": "cgntcnA3iB-O"
   },
   "source": [
    "# (3) Convert 2-D image to nx28x28x1 array, normalize the numbers"
   ]
  },
  {
   "cell_type": "code",
   "execution_count": 4,
   "metadata": {
    "colab": {},
    "colab_type": "code",
    "id": "QsLvVG6PiB-P"
   },
   "outputs": [],
   "source": [
    "# convert 2-D 28x28 image to 4-D nx28x28x1  array\n",
    "\n",
    "x_Train4D=x_train.reshape(x_train.shape[0],28,28,1).astype('float32')\n",
    "x_Test4D=x_test.reshape(x_test.shape[0],28,28,1).astype('float32')"
   ]
  },
  {
   "cell_type": "code",
   "execution_count": 5,
   "metadata": {
    "colab": {
     "base_uri": "https://localhost:8080/",
     "height": 51
    },
    "colab_type": "code",
    "id": "ak17dtJOiB-R",
    "outputId": "00419a76-cfcc-46ed-933c-7126a749000d"
   },
   "outputs": [
    {
     "name": "stdout",
     "output_type": "stream",
     "text": [
      "(60000, 28, 28, 1)\n",
      "(10000, 28, 28, 1)\n"
     ]
    }
   ],
   "source": [
    "# normalize the image numbers to 0~1\n",
    "\n",
    "x_Train4D_normalize = x_Train4D / 255\n",
    "x_Test4D_normalize = x_Test4D / 255\n",
    "print(x_Train4D_normalize.shape)\n",
    "print(x_Test4D_normalize.shape)"
   ]
  },
  {
   "cell_type": "markdown",
   "metadata": {
    "colab_type": "text",
    "id": "9NVmskhZiB-U"
   },
   "source": [
    "# (4) Convert label number to one-hot encoding"
   ]
  },
  {
   "cell_type": "code",
   "execution_count": 6,
   "metadata": {
    "colab": {
     "base_uri": "https://localhost:8080/",
     "height": 51
    },
    "colab_type": "code",
    "id": "KHam7D5MiB-V",
    "outputId": "69ac8686-388d-4bff-9158-d41c147b942b"
   },
   "outputs": [
    {
     "name": "stdout",
     "output_type": "stream",
     "text": [
      "(60000, 10)\n",
      "(10000, 10)\n"
     ]
    }
   ],
   "source": [
    "# convert label numbers to one-hot encoding\n",
    "\n",
    "y_TrainOneHot = np_utils.to_categorical(y_train)\n",
    "y_TestOneHot = np_utils.to_categorical(y_test)\n",
    "print(y_TrainOneHot.shape)\n",
    "print(y_TestOneHot.shape)"
   ]
  },
  {
   "cell_type": "markdown",
   "metadata": {
    "colab_type": "text",
    "collapsed": true,
    "id": "IjVdsDWqiB-a"
   },
   "source": [
    "# (5) Use a Convolutional Neural Network"
   ]
  },
  {
   "cell_type": "code",
   "execution_count": 7,
   "metadata": {
    "colab": {},
    "colab_type": "code",
    "id": "j-cVM2PMiB-a"
   },
   "outputs": [],
   "source": [
    "from tensorflow.keras import layers"
   ]
  },
  {
   "cell_type": "code",
   "execution_count": 8,
   "metadata": {},
   "outputs": [],
   "source": [
    "data_augmentation = tf.keras.Sequential([\n",
    "  layers.RandomRotation(0.3),\n",
    "])"
   ]
  },
  {
   "cell_type": "code",
   "execution_count": 9,
   "metadata": {
    "colab": {},
    "colab_type": "code",
    "id": "LGzyg9FEiB-d"
   },
   "outputs": [],
   "source": [
    "model1 = tf.keras.Sequential([\n",
    "    # data_augmentation,\n",
    "    layers.Conv2D(filters=16, kernel_size=(5, 5), padding='same',\n",
    "                  input_shape=(28, 28, 1), activation='relu'),\n",
    "    layers.MaxPooling2D(pool_size=(2, 2)),\n",
    "    layers.Conv2D(filters=36, kernel_size=(5, 5),\n",
    "                  padding='same', activation='relu'),\n",
    "    layers.MaxPooling2D(pool_size=(2, 2)),\n",
    "    layers.Dropout(0.25),\n",
    "    layers.Flatten(),\n",
    "    layers.Dense(128, activation='relu'),\n",
    "    layers.Dropout(0.5),\n",
    "    layers.Dense(10,activation='softmax')\n",
    "])\n",
    "\n",
    "model2 = tf.keras.Sequential([\n",
    "    # data_augmentation,\n",
    "    layers.Conv2D(filters=32, kernel_size=(3, 3),input_shape=(28, 28, 1), activation='relu'),\n",
    "    layers.MaxPooling2D(pool_size=(2, 2)),\n",
    "    layers.Conv2D(filters=64, kernel_size=(3, 3),activation='relu'),\n",
    "    layers.MaxPooling2D(pool_size=(2, 2)),\n",
    "    layers.Flatten(),\n",
    "    layers.Dense(128, activation='relu'),\n",
    "    layers.Dense(64, activation='relu'),\n",
    "    layers.Dense(10,activation='softmax')\n",
    "])\n",
    "\n",
    "model = model1"
   ]
  },
  {
   "cell_type": "code",
   "execution_count": 10,
   "metadata": {
    "colab": {
     "base_uri": "https://localhost:8080/",
     "height": 459
    },
    "colab_type": "code",
    "id": "bPYY0gb2iB-v",
    "outputId": "f4d7e764-73cc-4bdf-fb68-f2017def61d4"
   },
   "outputs": [
    {
     "name": "stdout",
     "output_type": "stream",
     "text": [
      "Model: \"sequential_1\"\n",
      "_________________________________________________________________\n",
      " Layer (type)                Output Shape              Param #   \n",
      "=================================================================\n",
      " conv2d (Conv2D)             (None, 28, 28, 16)        416       \n",
      "                                                                 \n",
      " max_pooling2d (MaxPooling2D  (None, 14, 14, 16)       0         \n",
      " )                                                               \n",
      "                                                                 \n",
      " conv2d_1 (Conv2D)           (None, 14, 14, 36)        14436     \n",
      "                                                                 \n",
      " max_pooling2d_1 (MaxPooling  (None, 7, 7, 36)         0         \n",
      " 2D)                                                             \n",
      "                                                                 \n",
      " dropout (Dropout)           (None, 7, 7, 36)          0         \n",
      "                                                                 \n",
      " flatten (Flatten)           (None, 1764)              0         \n",
      "                                                                 \n",
      " dense (Dense)               (None, 128)               225920    \n",
      "                                                                 \n",
      " dropout_1 (Dropout)         (None, 128)               0         \n",
      "                                                                 \n",
      " dense_1 (Dense)             (None, 10)                1290      \n",
      "                                                                 \n",
      "=================================================================\n",
      "Total params: 242,062\n",
      "Trainable params: 242,062\n",
      "Non-trainable params: 0\n",
      "_________________________________________________________________\n",
      "None\n"
     ]
    }
   ],
   "source": [
    "input_shape = (None, 28, 28, 1)\n",
    "model.build(input_shape)\n",
    "print(model.summary())\n"
   ]
  },
  {
   "cell_type": "markdown",
   "metadata": {
    "colab_type": "text",
    "id": "lps55lvXiB-y"
   },
   "source": [
    "# (6) Model training"
   ]
  },
  {
   "cell_type": "code",
   "execution_count": 11,
   "metadata": {
    "colab": {},
    "colab_type": "code",
    "id": "Li6DsK-hiB-z"
   },
   "outputs": [],
   "source": [
    "model.compile(loss='categorical_crossentropy',\n",
    "              optimizer='adam',metrics=['accuracy']) "
   ]
  },
  {
   "cell_type": "code",
   "execution_count": 12,
   "metadata": {
    "colab": {
     "base_uri": "https://localhost:8080/",
     "height": 1734
    },
    "colab_type": "code",
    "id": "WHV_-sKeiB-3",
    "outputId": "cdd9a518-b634-4a28-f37d-7b6efcea57f7"
   },
   "outputs": [
    {
     "name": "stdout",
     "output_type": "stream",
     "text": [
      "Epoch 1/50\n",
      "160/160 - 17s - loss: 0.5234 - accuracy: 0.8339 - val_loss: 0.1007 - val_accuracy: 0.9710 - 17s/epoch - 106ms/step\n",
      "Epoch 2/50\n",
      "160/160 - 19s - loss: 0.1435 - accuracy: 0.9580 - val_loss: 0.0712 - val_accuracy: 0.9782 - 19s/epoch - 116ms/step\n",
      "Epoch 3/50\n",
      "160/160 - 15s - loss: 0.1031 - accuracy: 0.9688 - val_loss: 0.0528 - val_accuracy: 0.9837 - 15s/epoch - 91ms/step\n",
      "Epoch 4/50\n",
      "160/160 - 15s - loss: 0.0842 - accuracy: 0.9744 - val_loss: 0.0483 - val_accuracy: 0.9857 - 15s/epoch - 91ms/step\n",
      "Epoch 5/50\n",
      "160/160 - 18s - loss: 0.0716 - accuracy: 0.9783 - val_loss: 0.0419 - val_accuracy: 0.9872 - 18s/epoch - 113ms/step\n",
      "Epoch 6/50\n",
      "160/160 - 17s - loss: 0.0634 - accuracy: 0.9812 - val_loss: 0.0412 - val_accuracy: 0.9877 - 17s/epoch - 106ms/step\n",
      "Epoch 7/50\n",
      "160/160 - 16s - loss: 0.0563 - accuracy: 0.9825 - val_loss: 0.0378 - val_accuracy: 0.9889 - 16s/epoch - 102ms/step\n",
      "Epoch 8/50\n",
      "160/160 - 16s - loss: 0.0536 - accuracy: 0.9846 - val_loss: 0.0379 - val_accuracy: 0.9887 - 16s/epoch - 102ms/step\n",
      "Epoch 9/50\n",
      "160/160 - 18s - loss: 0.0474 - accuracy: 0.9849 - val_loss: 0.0356 - val_accuracy: 0.9901 - 18s/epoch - 111ms/step\n",
      "Epoch 10/50\n",
      "160/160 - 18s - loss: 0.0448 - accuracy: 0.9863 - val_loss: 0.0332 - val_accuracy: 0.9907 - 18s/epoch - 110ms/step\n",
      "Epoch 11/50\n",
      "160/160 - 17s - loss: 0.0409 - accuracy: 0.9869 - val_loss: 0.0304 - val_accuracy: 0.9914 - 17s/epoch - 105ms/step\n",
      "Epoch 12/50\n",
      "160/160 - 18s - loss: 0.0362 - accuracy: 0.9889 - val_loss: 0.0336 - val_accuracy: 0.9902 - 18s/epoch - 115ms/step\n",
      "Epoch 13/50\n",
      "160/160 - 18s - loss: 0.0337 - accuracy: 0.9896 - val_loss: 0.0317 - val_accuracy: 0.9913 - 18s/epoch - 109ms/step\n",
      "Epoch 14/50\n",
      "160/160 - 16s - loss: 0.0333 - accuracy: 0.9897 - val_loss: 0.0317 - val_accuracy: 0.9909 - 16s/epoch - 102ms/step\n",
      "Epoch 15/50\n",
      "160/160 - 16s - loss: 0.0286 - accuracy: 0.9908 - val_loss: 0.0327 - val_accuracy: 0.9912 - 16s/epoch - 99ms/step\n",
      "Epoch 16/50\n",
      "160/160 - 15s - loss: 0.0291 - accuracy: 0.9905 - val_loss: 0.0336 - val_accuracy: 0.9906 - 15s/epoch - 96ms/step\n",
      "Epoch 17/50\n",
      "160/160 - 18s - loss: 0.0280 - accuracy: 0.9909 - val_loss: 0.0324 - val_accuracy: 0.9912 - 18s/epoch - 111ms/step\n",
      "Epoch 18/50\n",
      "160/160 - 17s - loss: 0.0242 - accuracy: 0.9924 - val_loss: 0.0294 - val_accuracy: 0.9918 - 17s/epoch - 105ms/step\n",
      "Epoch 19/50\n",
      "160/160 - 17s - loss: 0.0224 - accuracy: 0.9927 - val_loss: 0.0323 - val_accuracy: 0.9912 - 17s/epoch - 107ms/step\n",
      "Epoch 20/50\n",
      "160/160 - 16s - loss: 0.0225 - accuracy: 0.9927 - val_loss: 0.0287 - val_accuracy: 0.9922 - 16s/epoch - 98ms/step\n",
      "Epoch 21/50\n",
      "160/160 - 17s - loss: 0.0232 - accuracy: 0.9925 - val_loss: 0.0290 - val_accuracy: 0.9919 - 17s/epoch - 107ms/step\n",
      "Epoch 22/50\n",
      "160/160 - 17s - loss: 0.0213 - accuracy: 0.9931 - val_loss: 0.0283 - val_accuracy: 0.9919 - 17s/epoch - 105ms/step\n",
      "Epoch 23/50\n",
      "160/160 - 17s - loss: 0.0211 - accuracy: 0.9927 - val_loss: 0.0312 - val_accuracy: 0.9925 - 17s/epoch - 108ms/step\n",
      "Epoch 24/50\n",
      "160/160 - 18s - loss: 0.0203 - accuracy: 0.9937 - val_loss: 0.0339 - val_accuracy: 0.9923 - 18s/epoch - 115ms/step\n",
      "Epoch 25/50\n",
      "160/160 - 17s - loss: 0.0194 - accuracy: 0.9939 - val_loss: 0.0309 - val_accuracy: 0.9926 - 17s/epoch - 105ms/step\n",
      "Epoch 26/50\n",
      "160/160 - 16s - loss: 0.0204 - accuracy: 0.9935 - val_loss: 0.0299 - val_accuracy: 0.9918 - 16s/epoch - 101ms/step\n",
      "Epoch 27/50\n",
      "160/160 - 16s - loss: 0.0186 - accuracy: 0.9939 - val_loss: 0.0301 - val_accuracy: 0.9924 - 16s/epoch - 101ms/step\n",
      "Epoch 28/50\n",
      "160/160 - 17s - loss: 0.0162 - accuracy: 0.9947 - val_loss: 0.0309 - val_accuracy: 0.9927 - 17s/epoch - 104ms/step\n",
      "Epoch 29/50\n",
      "160/160 - 16s - loss: 0.0153 - accuracy: 0.9949 - val_loss: 0.0314 - val_accuracy: 0.9926 - 16s/epoch - 101ms/step\n",
      "Epoch 30/50\n",
      "160/160 - 17s - loss: 0.0169 - accuracy: 0.9942 - val_loss: 0.0323 - val_accuracy: 0.9921 - 17s/epoch - 107ms/step\n",
      "Epoch 31/50\n",
      "160/160 - 17s - loss: 0.0157 - accuracy: 0.9945 - val_loss: 0.0346 - val_accuracy: 0.9923 - 17s/epoch - 107ms/step\n",
      "Epoch 32/50\n",
      "160/160 - 17s - loss: 0.0153 - accuracy: 0.9948 - val_loss: 0.0318 - val_accuracy: 0.9927 - 17s/epoch - 104ms/step\n",
      "Epoch 33/50\n",
      "160/160 - 17s - loss: 0.0151 - accuracy: 0.9950 - val_loss: 0.0311 - val_accuracy: 0.9926 - 17s/epoch - 106ms/step\n",
      "Epoch 34/50\n",
      "160/160 - 18s - loss: 0.0138 - accuracy: 0.9953 - val_loss: 0.0330 - val_accuracy: 0.9924 - 18s/epoch - 111ms/step\n",
      "Epoch 35/50\n",
      "160/160 - 18s - loss: 0.0131 - accuracy: 0.9956 - val_loss: 0.0376 - val_accuracy: 0.9919 - 18s/epoch - 112ms/step\n",
      "Epoch 36/50\n",
      "160/160 - 17s - loss: 0.0142 - accuracy: 0.9952 - val_loss: 0.0301 - val_accuracy: 0.9927 - 17s/epoch - 109ms/step\n",
      "Epoch 37/50\n",
      "160/160 - 17s - loss: 0.0136 - accuracy: 0.9952 - val_loss: 0.0333 - val_accuracy: 0.9925 - 17s/epoch - 103ms/step\n",
      "Epoch 38/50\n",
      "160/160 - 18s - loss: 0.0115 - accuracy: 0.9961 - val_loss: 0.0339 - val_accuracy: 0.9924 - 18s/epoch - 114ms/step\n",
      "Epoch 39/50\n",
      "160/160 - 17s - loss: 0.0124 - accuracy: 0.9955 - val_loss: 0.0339 - val_accuracy: 0.9932 - 17s/epoch - 105ms/step\n",
      "Epoch 40/50\n",
      "160/160 - 16s - loss: 0.0127 - accuracy: 0.9956 - val_loss: 0.0314 - val_accuracy: 0.9920 - 16s/epoch - 101ms/step\n",
      "Epoch 41/50\n",
      "160/160 - 17s - loss: 0.0130 - accuracy: 0.9956 - val_loss: 0.0346 - val_accuracy: 0.9930 - 17s/epoch - 109ms/step\n",
      "Epoch 42/50\n",
      "160/160 - 19s - loss: 0.0125 - accuracy: 0.9956 - val_loss: 0.0372 - val_accuracy: 0.9924 - 19s/epoch - 116ms/step\n",
      "Epoch 43/50\n",
      "160/160 - 15s - loss: 0.0116 - accuracy: 0.9959 - val_loss: 0.0353 - val_accuracy: 0.9930 - 15s/epoch - 97ms/step\n",
      "Epoch 44/50\n",
      "160/160 - 16s - loss: 0.0104 - accuracy: 0.9963 - val_loss: 0.0340 - val_accuracy: 0.9929 - 16s/epoch - 98ms/step\n",
      "Epoch 45/50\n",
      "160/160 - 17s - loss: 0.0105 - accuracy: 0.9966 - val_loss: 0.0369 - val_accuracy: 0.9924 - 17s/epoch - 109ms/step\n",
      "Epoch 46/50\n",
      "160/160 - 15s - loss: 0.0111 - accuracy: 0.9964 - val_loss: 0.0340 - val_accuracy: 0.9931 - 15s/epoch - 92ms/step\n",
      "Epoch 47/50\n",
      "160/160 - 15s - loss: 0.0104 - accuracy: 0.9966 - val_loss: 0.0360 - val_accuracy: 0.9925 - 15s/epoch - 93ms/step\n",
      "Epoch 48/50\n",
      "160/160 - 15s - loss: 0.0107 - accuracy: 0.9964 - val_loss: 0.0338 - val_accuracy: 0.9927 - 15s/epoch - 93ms/step\n",
      "Epoch 49/50\n",
      "160/160 - 17s - loss: 0.0093 - accuracy: 0.9968 - val_loss: 0.0341 - val_accuracy: 0.9933 - 17s/epoch - 104ms/step\n",
      "Epoch 50/50\n",
      "160/160 - 15s - loss: 0.0100 - accuracy: 0.9969 - val_loss: 0.0389 - val_accuracy: 0.9918 - 15s/epoch - 92ms/step\n"
     ]
    }
   ],
   "source": [
    "train_history=model.fit(x=x_Train4D_normalize, \n",
    "                        y=y_TrainOneHot,validation_split=0.2, \n",
    "                        epochs=50, batch_size=300,verbose=2)"
   ]
  },
  {
   "cell_type": "markdown",
   "metadata": {
    "colab_type": "text",
    "id": "wjur8EBwiB-5"
   },
   "source": [
    "# (7) Training history"
   ]
  },
  {
   "cell_type": "code",
   "execution_count": 13,
   "metadata": {
    "colab": {},
    "colab_type": "code",
    "id": "9TnuMkBciB-6"
   },
   "outputs": [],
   "source": [
    "def show_train_history(train_history,train,validation):\n",
    "    plt.plot(train_history.history[train])\n",
    "    plt.plot(train_history.history[validation])\n",
    "    plt.title('Train History')\n",
    "    plt.ylabel(train)\n",
    "    plt.xlabel('Epoch')\n",
    "    plt.legend(['train', 'validation'], loc='upper left')\n",
    "    plt.show()"
   ]
  },
  {
   "cell_type": "code",
   "execution_count": 14,
   "metadata": {
    "colab": {
     "base_uri": "https://localhost:8080/",
     "height": 376
    },
    "colab_type": "code",
    "id": "DG8q8QKJiB-8",
    "outputId": "ebf6dc05-7baa-4470-f1ee-08c42b449c07"
   },
   "outputs": [
    {
     "data": {
      "image/png": "[encoded data removed]",
      "text/plain": [
       "<Figure size 432x288 with 1 Axes>"
      ]
     },
     "metadata": {
      "needs_background": "light"
     },
     "output_type": "display_data"
    }
   ],
   "source": [
    "show_train_history(train_history,'accuracy','val_accuracy')"
   ]
  },
  {
   "cell_type": "code",
   "execution_count": 15,
   "metadata": {
    "colab": {
     "base_uri": "https://localhost:8080/",
     "height": 376
    },
    "colab_type": "code",
    "id": "NHZSgQl1iB--",
    "outputId": "50f1a852-173c-40b8-8d7f-97686311bccf"
   },
   "outputs": [
    {
     "data": {
      "image/png": "[encoded data removed]",
      "text/plain": [
       "<Figure size 432x288 with 1 Axes>"
      ]
     },
     "metadata": {
      "needs_background": "light"
     },
     "output_type": "display_data"
    }
   ],
   "source": [
    "show_train_history(train_history,'loss','val_loss')"
   ]
  },
  {
   "cell_type": "markdown",
   "metadata": {
    "colab_type": "text",
    "id": "UAsBzQe3iB_A"
   },
   "source": [
    "# (8) Accuracy"
   ]
  },
  {
   "cell_type": "code",
   "execution_count": 16,
   "metadata": {
    "colab": {
     "base_uri": "https://localhost:8080/",
     "height": 68
    },
    "colab_type": "code",
    "id": "4y7ZkS_giB_B",
    "outputId": "b6b0bb53-01e5-4aa8-8d2a-de0fc96bc2db"
   },
   "outputs": [
    {
     "name": "stdout",
     "output_type": "stream",
     "text": [
      "313/313 [==============================] - 1s 4ms/step - loss: 0.0222 - accuracy: 0.9943\n",
      "\n",
      "accuracy= 0.9943000078201294\n"
     ]
    }
   ],
   "source": [
    "scores = model.evaluate(x_Test4D_normalize, y_TestOneHot)\n",
    "print()\n",
    "print('accuracy=',scores[1])"
   ]
  },
  {
   "cell_type": "markdown",
   "metadata": {
    "colab_type": "text",
    "id": "sYeIVedLiB_D"
   },
   "source": [
    "# (9) Prediction"
   ]
  },
  {
   "cell_type": "code",
   "execution_count": 17,
   "metadata": {
    "colab": {},
    "colab_type": "code",
    "id": "3R_X4hO2iB_E"
   },
   "outputs": [],
   "source": [
    "predictions = (model.predict(x_test) > 0.5).astype(\"int32\")"
   ]
  },
  {
   "cell_type": "code",
   "execution_count": 18,
   "metadata": {
    "colab": {},
    "colab_type": "code",
    "id": "7Hwq3xCViB_F"
   },
   "outputs": [],
   "source": [
    "def plot_images_labels_prediction(images,labels,prediction,\n",
    "                                  idx,num=10):\n",
    "    fig = plt.gcf()\n",
    "    fig.set_size_inches(12, 14)\n",
    "    if num>25: num=25 \n",
    "    for i in range(0, num):\n",
    "        ax=plt.subplot(5,5, 1+i)\n",
    "        ax.imshow(images[idx], cmap='binary')\n",
    "        title= \"label=\" +str(labels[idx])\n",
    "        if len(prediction)>0:\n",
    "            title+=\",predict=\"+str(prediction[idx]) \n",
    "            \n",
    "        ax.set_title(title,fontsize=10) \n",
    "        ax.set_xticks([]);ax.set_yticks([])        \n",
    "        idx+=1 \n",
    "    plt.show()"
   ]
  },
  {
   "cell_type": "code",
   "execution_count": 19,
   "metadata": {
    "colab": {
     "base_uri": "https://localhost:8080/",
     "height": 318
    },
    "colab_type": "code",
    "id": "nfwNhsESiB_I",
    "outputId": "c7e91fe4-83dc-4c38-aaaa-c5be19e47a49"
   },
   "outputs": [
    {
     "data": {
      "image/png": "[encoded data removed]",
      "text/plain": [
       "<Figure size 864x1008 with 10 Axes>"
      ]
     },
     "metadata": {},
     "output_type": "display_data"
    }
   ],
   "source": [
    "plot_images_labels_prediction(x_test,y_test,\n",
    "                              predictions,idx=320)"
   ]
  },
  {
   "cell_type": "markdown",
   "metadata": {
    "colab_type": "text",
    "id": "7KXP7Dz4iB_M"
   },
   "source": [
    "# (10) Confusion matrix"
   ]
  },
  {
   "cell_type": "code",
   "execution_count": 20,
   "metadata": {
    "colab": {},
    "colab_type": "code",
    "id": "XFYNFUdfA17Q"
   },
   "outputs": [],
   "source": [
    "# save and load weights\n",
    "model.save_weights('my_model_weights.h5')\n",
    "model.load_weights('my_model_weights.h5')"
   ]
  },
  {
   "cell_type": "code",
   "execution_count": 21,
   "metadata": {
    "colab": {
     "base_uri": "https://localhost:8080/",
     "height": 442
    },
    "colab_type": "code",
    "id": "aIAb1_73iB_R",
    "outputId": "73d6f242-59d5-44db-cff9-a704f905c861"
   },
   "outputs": [
    {
     "name": "stdout",
     "output_type": "stream",
     "text": [
      "Model: \"sequential_1\"\n",
      "_________________________________________________________________\n",
      " Layer (type)                Output Shape              Param #   \n",
      "=================================================================\n",
      " conv2d (Conv2D)             (None, 28, 28, 16)        416       \n",
      "                                                                 \n",
      " max_pooling2d (MaxPooling2D  (None, 14, 14, 16)       0         \n",
      " )                                                               \n",
      "                                                                 \n",
      " conv2d_1 (Conv2D)           (None, 14, 14, 36)        14436     \n",
      "                                                                 \n",
      " max_pooling2d_1 (MaxPooling  (None, 7, 7, 36)         0         \n",
      " 2D)                                                             \n",
      "                                                                 \n",
      " dropout (Dropout)           (None, 7, 7, 36)          0         \n",
      "                                                                 \n",
      " flatten (Flatten)           (None, 1764)              0         \n",
      "                                                                 \n",
      " dense (Dense)               (None, 128)               225920    \n",
      "                                                                 \n",
      " dropout_1 (Dropout)         (None, 128)               0         \n",
      "                                                                 \n",
      " dense_1 (Dense)             (None, 10)                1290      \n",
      "                                                                 \n",
      "=================================================================\n",
      "Total params: 242,062\n",
      "Trainable params: 242,062\n",
      "Non-trainable params: 0\n",
      "_________________________________________________________________\n"
     ]
    }
   ],
   "source": [
    "model.save('my_model.h5')  \n",
    "del model  # deletes the existing model\n",
    "\n",
    "from keras.models import load_model\n",
    "model = load_model('my_model.h5')\n",
    "model.summary()"
   ]
  }
 ],
 "metadata": {
  "accelerator": "GPU",
  "colab": {
   "name": "for_camera_train_001.ipynb",
   "provenance": [],
   "version": "0.3.2"
  },
  "kernelspec": {
   "display_name": "Python 3",
   "language": "python",
   "name": "python3"
  },
  "language_info": {
   "codemirror_mode": {
    "name": "ipython",
    "version": 3
   },
   "file_extension": ".py",
   "mimetype": "text/x-python",
   "name": "python",
   "nbconvert_exporter": "python",
   "pygments_lexer": "ipython3",
   "version": "3.8.12"
  }
 },
 "nbformat": 4,
 "nbformat_minor": 1
}
