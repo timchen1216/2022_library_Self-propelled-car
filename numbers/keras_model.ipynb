{
 "cells": [
  {
   "cell_type": "markdown",
   "metadata": {
    "colab_type": "text",
    "id": "N-S3jKKEiB95"
   },
   "source": [
    "# 手寫數字辨識\n",
    "#  "
   ]
  },
  {
   "cell_type": "markdown",
   "metadata": {
    "colab_type": "text",
    "id": "Z0wrVvxyiB97"
   },
   "source": [
    "### MNIST, Convolutional Neural Network (CNN)\n",
    "\n",
    "### MNIST由手寫阿拉伯數字組成，包含60,000個訓練樣本和10,000個測試樣本。\n",
    "\n",
    "##### data from: https://keras.io/datasets/#mnist-database-of-handwritten-digits\n"
   ]
  },
  {
   "cell_type": "markdown",
   "metadata": {
    "colab_type": "text",
    "id": "88Yhbd6XiB98"
   },
   "source": [
    "# (1) Import the data from Keras"
   ]
  },
  {
   "cell_type": "code",
   "execution_count": 1,
   "metadata": {
    "colab": {},
    "colab_type": "code",
    "id": "4NHDi4ghiB9-",
    "scrolled": true
   },
   "outputs": [],
   "source": [
    "from keras.utils import np_utils\n",
    "import matplotlib.pyplot as plt\n",
    "import pandas as pd\n",
    "import numpy as np\n",
    "np.random.seed(3)"
   ]
  },
  {
   "cell_type": "code",
   "execution_count": 2,
   "metadata": {
    "colab": {
     "base_uri": "https://localhost:8080/",
     "height": 34
    },
    "colab_type": "code",
    "id": "bJKPj9xKiB-H",
    "outputId": "f84edb3e-e2ce-48f0-8511-662cae9793c0"
   },
   "outputs": [
    {
     "name": "stdout",
     "output_type": "stream",
     "text": [
      "(60000, 28, 28)\n",
      "(60000,)\n",
      "(10000, 28, 28)\n",
      "(10000,)\n"
     ]
    }
   ],
   "source": [
    "# read in the file\n",
    "import keras\n",
    "import tensorflow as tf \n",
    "\n",
    "tf.keras.datasets.mnist.load_data(path=\"mnist.npz\")\n",
    "(x_train, y_train), (x_test, y_test) = keras.datasets.mnist.load_data()\n",
    "\n",
    "print(x_train.shape)\n",
    "print(y_train.shape)\n",
    "print(x_test.shape)\n",
    "print(y_test.shape)"
   ]
  },
  {
   "cell_type": "markdown",
   "metadata": {
    "colab_type": "text",
    "id": "IG_aNFEuiB-K"
   },
   "source": [
    "# (2) View the first 10 images and labels"
   ]
  },
  {
   "cell_type": "code",
   "execution_count": 3,
   "metadata": {
    "colab": {
     "base_uri": "https://localhost:8080/",
     "height": 318
    },
    "colab_type": "code",
    "id": "rFH2lowXiB-L",
    "outputId": "55ee921c-83f4-464b-ecda-1b7f9770b03e"
   },
   "outputs": [
    {
     "data": {
      "image/png": "[encoded data removed]",
      "text/plain": [
       "<Figure size 864x1008 with 10 Axes>"
      ]
     },
     "metadata": {},
     "output_type": "display_data"
    }
   ],
   "source": [
    "fig = plt.gcf()\n",
    "fig.set_size_inches(12,14)\n",
    "\n",
    "for i in range(0,10):\n",
    "    ax=plt.subplot(5,5,1+i)\n",
    "    ax.imshow(x_train[i], cmap='binary')\n",
    "    title= \"label=\" +str(y_train[i])\n",
    "    ax.set_title(title,fontsize=10) \n",
    "    ax.set_xticks([]);ax.set_yticks([])        \n",
    "plt.show()"
   ]
  },
  {
   "cell_type": "markdown",
   "metadata": {
    "colab_type": "text",
    "id": "cgntcnA3iB-O"
   },
   "source": [
    "# (3) Convert 2-D image to nx28x28x1 array, normalize the numbers"
   ]
  },
  {
   "cell_type": "code",
   "execution_count": 4,
   "metadata": {
    "colab": {},
    "colab_type": "code",
    "id": "QsLvVG6PiB-P"
   },
   "outputs": [],
   "source": [
    "# convert 2-D 28x28 image to 4-D nx28x28x1  array\n",
    "\n",
    "x_Train4D=x_train.reshape(x_train.shape[0],28,28,1).astype('float32')\n",
    "x_Test4D=x_test.reshape(x_test.shape[0],28,28,1).astype('float32')"
   ]
  },
  {
   "cell_type": "code",
   "execution_count": 5,
   "metadata": {
    "colab": {
     "base_uri": "https://localhost:8080/",
     "height": 51
    },
    "colab_type": "code",
    "id": "ak17dtJOiB-R",
    "outputId": "00419a76-cfcc-46ed-933c-7126a749000d"
   },
   "outputs": [
    {
     "name": "stdout",
     "output_type": "stream",
     "text": [
      "(60000, 28, 28, 1)\n",
      "(10000, 28, 28, 1)\n"
     ]
    }
   ],
   "source": [
    "# normalize the image numbers to 0~1\n",
    "\n",
    "x_Train4D_normalize = x_Train4D / 255\n",
    "x_Test4D_normalize = x_Test4D / 255\n",
    "print(x_Train4D_normalize.shape)\n",
    "print(x_Test4D_normalize.shape)"
   ]
  },
  {
   "cell_type": "markdown",
   "metadata": {
    "colab_type": "text",
    "id": "9NVmskhZiB-U"
   },
   "source": [
    "# (4) Convert label number to one-hot encoding"
   ]
  },
  {
   "cell_type": "code",
   "execution_count": 6,
   "metadata": {
    "colab": {
     "base_uri": "https://localhost:8080/",
     "height": 51
    },
    "colab_type": "code",
    "id": "KHam7D5MiB-V",
    "outputId": "69ac8686-388d-4bff-9158-d41c147b942b"
   },
   "outputs": [
    {
     "name": "stdout",
     "output_type": "stream",
     "text": [
      "(60000, 10)\n",
      "(10000, 10)\n"
     ]
    }
   ],
   "source": [
    "# convert label numbers to one-hot encoding\n",
    "\n",
    "y_TrainOneHot = np_utils.to_categorical(y_train)\n",
    "y_TestOneHot = np_utils.to_categorical(y_test)\n",
    "print(y_TrainOneHot.shape)\n",
    "print(y_TestOneHot.shape)"
   ]
  },
  {
   "cell_type": "markdown",
   "metadata": {
    "colab_type": "text",
    "collapsed": true,
    "id": "IjVdsDWqiB-a"
   },
   "source": [
    "# (5) Use a Convolutional Neural Network"
   ]
  },
  {
   "cell_type": "code",
   "execution_count": 7,
   "metadata": {
    "colab": {},
    "colab_type": "code",
    "id": "j-cVM2PMiB-a"
   },
   "outputs": [],
   "source": [
    "from tensorflow.keras import layers"
   ]
  },
  {
   "cell_type": "code",
   "execution_count": 8,
   "metadata": {},
   "outputs": [],
   "source": [
    "data_augmentation = tf.keras.Sequential([\n",
    "  layers.RandomRotation(0.3),\n",
    "])"
   ]
  },
  {
   "cell_type": "code",
   "execution_count": 9,
   "metadata": {
    "colab": {},
    "colab_type": "code",
    "id": "LGzyg9FEiB-d"
   },
   "outputs": [],
   "source": [
    "model1 = tf.keras.Sequential([\n",
    "    # data_augmentation,\n",
    "    layers.Conv2D(filters=16, kernel_size=(5, 5), padding='same',\n",
    "                  input_shape=(28, 28, 1), activation='relu'),\n",
    "    layers.MaxPooling2D(pool_size=(2, 2)),\n",
    "    layers.Conv2D(filters=36, kernel_size=(5, 5),\n",
    "                  padding='same', activation='relu'),\n",
    "    layers.MaxPooling2D(pool_size=(2, 2)),\n",
    "    layers.Dropout(0.25),\n",
    "    layers.Flatten(),\n",
    "    layers.Dense(128, activation='relu'),\n",
    "    layers.Dropout(0.5),\n",
    "    layers.Dense(10,activation='softmax')\n",
    "])\n",
    "\n",
    "model2 = tf.keras.Sequential([\n",
    "    # data_augmentation,\n",
    "    layers.Conv2D(filters=32, kernel_size=(3, 3),input_shape=(28, 28, 1), activation='relu'),\n",
    "    layers.MaxPooling2D(pool_size=(2, 2)),\n",
    "    layers.Conv2D(filters=64, kernel_size=(3, 3),activation='relu'),\n",
    "    layers.MaxPooling2D(pool_size=(2, 2)),\n",
    "    layers.Flatten(),\n",
    "    layers.Dense(128, activation='relu'),\n",
    "    layers.Dense(64, activation='relu'),\n",
    "    layers.Dense(10,activation='softmax')\n",
    "])\n",
    "\n",
    "model = model1"
   ]
  },
  {
   "cell_type": "code",
   "execution_count": 10,
   "metadata": {
    "colab": {
     "base_uri": "https://localhost:8080/",
     "height": 459
    },
    "colab_type": "code",
    "id": "bPYY0gb2iB-v",
    "outputId": "f4d7e764-73cc-4bdf-fb68-f2017def61d4"
   },
   "outputs": [
    {
     "name": "stdout",
     "output_type": "stream",
     "text": [
      "Model: \"sequential_2\"\n",
      "_________________________________________________________________\n",
      " Layer (type)                Output Shape              Param #   \n",
      "=================================================================\n",
      " conv2d_2 (Conv2D)           (None, 26, 26, 32)        320       \n",
      "                                                                 \n",
      " max_pooling2d_2 (MaxPooling  (None, 13, 13, 32)       0         \n",
      " 2D)                                                             \n",
      "                                                                 \n",
      " conv2d_3 (Conv2D)           (None, 11, 11, 64)        18496     \n",
      "                                                                 \n",
      " max_pooling2d_3 (MaxPooling  (None, 5, 5, 64)         0         \n",
      " 2D)                                                             \n",
      "                                                                 \n",
      " flatten_1 (Flatten)         (None, 1600)              0         \n",
      "                                                                 \n",
      " dense_2 (Dense)             (None, 128)               204928    \n",
      "                                                                 \n",
      " dense_3 (Dense)             (None, 64)                8256      \n",
      "                                                                 \n",
      " dense_4 (Dense)             (None, 10)                650       \n",
      "                                                                 \n",
      "=================================================================\n",
      "Total params: 232,650\n",
      "Trainable params: 232,650\n",
      "Non-trainable params: 0\n",
      "_________________________________________________________________\n",
      "None\n"
     ]
    }
   ],
   "source": [
    "input_shape = (None, 28, 28, 1)\n",
    "model.build(input_shape)\n",
    "print(model.summary())\n"
   ]
  },
  {
   "cell_type": "markdown",
   "metadata": {
    "colab_type": "text",
    "id": "lps55lvXiB-y"
   },
   "source": [
    "# (6) Model training"
   ]
  },
  {
   "cell_type": "code",
   "execution_count": 11,
   "metadata": {
    "colab": {},
    "colab_type": "code",
    "id": "Li6DsK-hiB-z"
   },
   "outputs": [],
   "source": [
    "model.compile(loss='categorical_crossentropy',\n",
    "              optimizer='adam',metrics=['accuracy']) "
   ]
  },
  {
   "cell_type": "code",
   "execution_count": 12,
   "metadata": {
    "colab": {
     "base_uri": "https://localhost:8080/",
     "height": 1734
    },
    "colab_type": "code",
    "id": "WHV_-sKeiB-3",
    "outputId": "cdd9a518-b634-4a28-f37d-7b6efcea57f7"
   },
   "outputs": [
    {
     "name": "stdout",
     "output_type": "stream",
     "text": [
      "Epoch 1/50\n",
      "160/160 - 13s - loss: 0.3991 - accuracy: 0.8828 - val_loss: 0.1050 - val_accuracy: 0.9696 - 13s/epoch - 79ms/step\n",
      "Epoch 2/50\n",
      "160/160 - 11s - loss: 0.0873 - accuracy: 0.9730 - val_loss: 0.0642 - val_accuracy: 0.9823 - 11s/epoch - 70ms/step\n",
      "Epoch 3/50\n",
      "160/160 - 11s - loss: 0.0593 - accuracy: 0.9819 - val_loss: 0.0577 - val_accuracy: 0.9846 - 11s/epoch - 72ms/step\n",
      "Epoch 4/50\n",
      "160/160 - 12s - loss: 0.0443 - accuracy: 0.9859 - val_loss: 0.0525 - val_accuracy: 0.9859 - 12s/epoch - 74ms/step\n",
      "Epoch 5/50\n",
      "160/160 - 11s - loss: 0.0375 - accuracy: 0.9889 - val_loss: 0.0487 - val_accuracy: 0.9859 - 11s/epoch - 70ms/step\n",
      "Epoch 6/50\n",
      "160/160 - 11s - loss: 0.0311 - accuracy: 0.9908 - val_loss: 0.0478 - val_accuracy: 0.9857 - 11s/epoch - 70ms/step\n",
      "Epoch 7/50\n",
      "160/160 - 11s - loss: 0.0251 - accuracy: 0.9920 - val_loss: 0.0427 - val_accuracy: 0.9865 - 11s/epoch - 70ms/step\n",
      "Epoch 8/50\n",
      "160/160 - 12s - loss: 0.0230 - accuracy: 0.9928 - val_loss: 0.0381 - val_accuracy: 0.9893 - 12s/epoch - 74ms/step\n",
      "Epoch 9/50\n",
      "160/160 - 11s - loss: 0.0163 - accuracy: 0.9950 - val_loss: 0.0436 - val_accuracy: 0.9879 - 11s/epoch - 71ms/step\n",
      "Epoch 10/50\n",
      "160/160 - 12s - loss: 0.0160 - accuracy: 0.9950 - val_loss: 0.0389 - val_accuracy: 0.9889 - 12s/epoch - 73ms/step\n",
      "Epoch 11/50\n",
      "160/160 - 11s - loss: 0.0140 - accuracy: 0.9958 - val_loss: 0.0457 - val_accuracy: 0.9885 - 11s/epoch - 71ms/step\n",
      "Epoch 12/50\n",
      "160/160 - 11s - loss: 0.0116 - accuracy: 0.9961 - val_loss: 0.0411 - val_accuracy: 0.9890 - 11s/epoch - 70ms/step\n",
      "Epoch 13/50\n",
      "160/160 - 11s - loss: 0.0091 - accuracy: 0.9968 - val_loss: 0.0425 - val_accuracy: 0.9901 - 11s/epoch - 70ms/step\n",
      "Epoch 14/50\n",
      "160/160 - 12s - loss: 0.0087 - accuracy: 0.9969 - val_loss: 0.0372 - val_accuracy: 0.9910 - 12s/epoch - 72ms/step\n",
      "Epoch 15/50\n",
      "160/160 - 12s - loss: 0.0079 - accuracy: 0.9976 - val_loss: 0.0395 - val_accuracy: 0.9902 - 12s/epoch - 72ms/step\n",
      "Epoch 16/50\n",
      "160/160 - 11s - loss: 0.0057 - accuracy: 0.9983 - val_loss: 0.0475 - val_accuracy: 0.9896 - 11s/epoch - 70ms/step\n",
      "Epoch 17/50\n",
      "160/160 - 11s - loss: 0.0056 - accuracy: 0.9983 - val_loss: 0.0462 - val_accuracy: 0.9886 - 11s/epoch - 70ms/step\n",
      "Epoch 18/50\n",
      "160/160 - 11s - loss: 0.0060 - accuracy: 0.9979 - val_loss: 0.0444 - val_accuracy: 0.9892 - 11s/epoch - 69ms/step\n",
      "Epoch 19/50\n",
      "160/160 - 11s - loss: 0.0038 - accuracy: 0.9988 - val_loss: 0.0507 - val_accuracy: 0.9892 - 11s/epoch - 70ms/step\n",
      "Epoch 20/50\n",
      "160/160 - 11s - loss: 0.0051 - accuracy: 0.9982 - val_loss: 0.0501 - val_accuracy: 0.9896 - 11s/epoch - 70ms/step\n",
      "Epoch 21/50\n",
      "160/160 - 12s - loss: 0.0039 - accuracy: 0.9987 - val_loss: 0.0423 - val_accuracy: 0.9902 - 12s/epoch - 72ms/step\n",
      "Epoch 22/50\n",
      "160/160 - 11s - loss: 0.0072 - accuracy: 0.9974 - val_loss: 0.0429 - val_accuracy: 0.9906 - 11s/epoch - 69ms/step\n",
      "Epoch 23/50\n",
      "160/160 - 11s - loss: 0.0070 - accuracy: 0.9976 - val_loss: 0.0436 - val_accuracy: 0.9896 - 11s/epoch - 69ms/step\n",
      "Epoch 24/50\n",
      "160/160 - 12s - loss: 0.0038 - accuracy: 0.9988 - val_loss: 0.0405 - val_accuracy: 0.9913 - 12s/epoch - 73ms/step\n",
      "Epoch 25/50\n",
      "160/160 - 11s - loss: 8.6741e-04 - accuracy: 0.9998 - val_loss: 0.0425 - val_accuracy: 0.9923 - 11s/epoch - 70ms/step\n",
      "Epoch 26/50\n",
      "160/160 - 11s - loss: 8.1816e-04 - accuracy: 0.9997 - val_loss: 0.0505 - val_accuracy: 0.9915 - 11s/epoch - 69ms/step\n",
      "Epoch 27/50\n",
      "160/160 - 11s - loss: 2.7558e-04 - accuracy: 0.9999 - val_loss: 0.0468 - val_accuracy: 0.9919 - 11s/epoch - 72ms/step\n",
      "Epoch 28/50\n",
      "160/160 - 11s - loss: 1.2956e-04 - accuracy: 1.0000 - val_loss: 0.0463 - val_accuracy: 0.9921 - 11s/epoch - 69ms/step\n",
      "Epoch 29/50\n",
      "160/160 - 11s - loss: 1.0048e-04 - accuracy: 1.0000 - val_loss: 0.0473 - val_accuracy: 0.9921 - 11s/epoch - 68ms/step\n",
      "Epoch 30/50\n",
      "160/160 - 11s - loss: 1.1339e-04 - accuracy: 1.0000 - val_loss: 0.0478 - val_accuracy: 0.9920 - 11s/epoch - 71ms/step\n",
      "Epoch 31/50\n",
      "160/160 - 11s - loss: 5.0955e-05 - accuracy: 1.0000 - val_loss: 0.0484 - val_accuracy: 0.9921 - 11s/epoch - 70ms/step\n",
      "Epoch 32/50\n",
      "160/160 - 11s - loss: 3.9397e-05 - accuracy: 1.0000 - val_loss: 0.0491 - val_accuracy: 0.9918 - 11s/epoch - 70ms/step\n",
      "Epoch 33/50\n",
      "160/160 - 11s - loss: 3.5808e-05 - accuracy: 1.0000 - val_loss: 0.0499 - val_accuracy: 0.9916 - 11s/epoch - 70ms/step\n",
      "Epoch 34/50\n",
      "160/160 - 11s - loss: 3.8623e-05 - accuracy: 1.0000 - val_loss: 0.0495 - val_accuracy: 0.9920 - 11s/epoch - 69ms/step\n",
      "Epoch 35/50\n",
      "160/160 - 12s - loss: 3.4153e-05 - accuracy: 1.0000 - val_loss: 0.0504 - val_accuracy: 0.9919 - 12s/epoch - 72ms/step\n",
      "Epoch 36/50\n",
      "160/160 - 12s - loss: 2.1817e-05 - accuracy: 1.0000 - val_loss: 0.0507 - val_accuracy: 0.9920 - 12s/epoch - 73ms/step\n",
      "Epoch 37/50\n",
      "160/160 - 12s - loss: 1.8129e-05 - accuracy: 1.0000 - val_loss: 0.0513 - val_accuracy: 0.9918 - 12s/epoch - 73ms/step\n",
      "Epoch 38/50\n",
      "160/160 - 12s - loss: 1.6908e-05 - accuracy: 1.0000 - val_loss: 0.0515 - val_accuracy: 0.9919 - 12s/epoch - 75ms/step\n",
      "Epoch 39/50\n",
      "160/160 - 11s - loss: 1.4984e-05 - accuracy: 1.0000 - val_loss: 0.0522 - val_accuracy: 0.9919 - 11s/epoch - 71ms/step\n",
      "Epoch 40/50\n",
      "160/160 - 11s - loss: 1.3905e-05 - accuracy: 1.0000 - val_loss: 0.0527 - val_accuracy: 0.9920 - 11s/epoch - 71ms/step\n",
      "Epoch 41/50\n",
      "160/160 - 12s - loss: 1.2203e-05 - accuracy: 1.0000 - val_loss: 0.0529 - val_accuracy: 0.9919 - 12s/epoch - 73ms/step\n",
      "Epoch 42/50\n",
      "160/160 - 11s - loss: 1.1171e-05 - accuracy: 1.0000 - val_loss: 0.0535 - val_accuracy: 0.9919 - 11s/epoch - 70ms/step\n",
      "Epoch 43/50\n",
      "160/160 - 11s - loss: 1.0272e-05 - accuracy: 1.0000 - val_loss: 0.0540 - val_accuracy: 0.9919 - 11s/epoch - 69ms/step\n",
      "Epoch 44/50\n",
      "160/160 - 11s - loss: 9.2686e-06 - accuracy: 1.0000 - val_loss: 0.0546 - val_accuracy: 0.9921 - 11s/epoch - 71ms/step\n",
      "Epoch 45/50\n",
      "160/160 - 11s - loss: 8.5689e-06 - accuracy: 1.0000 - val_loss: 0.0549 - val_accuracy: 0.9919 - 11s/epoch - 69ms/step\n",
      "Epoch 46/50\n",
      "160/160 - 11s - loss: 7.9120e-06 - accuracy: 1.0000 - val_loss: 0.0551 - val_accuracy: 0.9919 - 11s/epoch - 70ms/step\n",
      "Epoch 47/50\n",
      "160/160 - 11s - loss: 7.2526e-06 - accuracy: 1.0000 - val_loss: 0.0558 - val_accuracy: 0.9921 - 11s/epoch - 70ms/step\n",
      "Epoch 48/50\n",
      "160/160 - 11s - loss: 6.6838e-06 - accuracy: 1.0000 - val_loss: 0.0559 - val_accuracy: 0.9920 - 11s/epoch - 69ms/step\n",
      "Epoch 49/50\n",
      "160/160 - 12s - loss: 6.1170e-06 - accuracy: 1.0000 - val_loss: 0.0569 - val_accuracy: 0.9921 - 12s/epoch - 73ms/step\n",
      "Epoch 50/50\n",
      "160/160 - 12s - loss: 5.6105e-06 - accuracy: 1.0000 - val_loss: 0.0568 - val_accuracy: 0.9919 - 12s/epoch - 74ms/step\n"
     ]
    }
   ],
   "source": [
    "train_history=model.fit(x=x_Train4D_normalize, \n",
    "                        y=y_TrainOneHot,validation_split=0.2, \n",
    "                        epochs=50, batch_size=300,verbose=2)"
   ]
  },
  {
   "cell_type": "markdown",
   "metadata": {
    "colab_type": "text",
    "id": "wjur8EBwiB-5"
   },
   "source": [
    "# (7) Training history"
   ]
  },
  {
   "cell_type": "code",
   "execution_count": 13,
   "metadata": {
    "colab": {},
    "colab_type": "code",
    "id": "9TnuMkBciB-6"
   },
   "outputs": [],
   "source": [
    "def show_train_history(train_history,train,validation):\n",
    "    plt.plot(train_history.history[train])\n",
    "    plt.plot(train_history.history[validation])\n",
    "    plt.title('Train History')\n",
    "    plt.ylabel(train)\n",
    "    plt.xlabel('Epoch')\n",
    "    plt.legend(['train', 'validation'], loc='upper left')\n",
    "    plt.show()"
   ]
  },
  {
   "cell_type": "code",
   "execution_count": 14,
   "metadata": {
    "colab": {
     "base_uri": "https://localhost:8080/",
     "height": 376
    },
    "colab_type": "code",
    "id": "DG8q8QKJiB-8",
    "outputId": "ebf6dc05-7baa-4470-f1ee-08c42b449c07"
   },
   "outputs": [
    {
     "data": {
      "image/png": "[encoded data removed]",
      "text/plain": [
       "<Figure size 432x288 with 1 Axes>"
      ]
     },
     "metadata": {
      "needs_background": "light"
     },
     "output_type": "display_data"
    }
   ],
   "source": [
    "show_train_history(train_history,'accuracy','val_accuracy')"
   ]
  },
  {
   "cell_type": "code",
   "execution_count": 15,
   "metadata": {
    "colab": {
     "base_uri": "https://localhost:8080/",
     "height": 376
    },
    "colab_type": "code",
    "id": "NHZSgQl1iB--",
    "outputId": "50f1a852-173c-40b8-8d7f-97686311bccf"
   },
   "outputs": [
    {
     "data": {
      "image/png": "[encoded data removed]",
      "text/plain": [
       "<Figure size 432x288 with 1 Axes>"
      ]
     },
     "metadata": {
      "needs_background": "light"
     },
     "output_type": "display_data"
    }
   ],
   "source": [
    "show_train_history(train_history,'loss','val_loss')"
   ]
  },
  {
   "cell_type": "markdown",
   "metadata": {
    "colab_type": "text",
    "id": "UAsBzQe3iB_A"
   },
   "source": [
    "# (8) Accuracy"
   ]
  },
  {
   "cell_type": "code",
   "execution_count": 16,
   "metadata": {
    "colab": {
     "base_uri": "https://localhost:8080/",
     "height": 68
    },
    "colab_type": "code",
    "id": "4y7ZkS_giB_B",
    "outputId": "b6b0bb53-01e5-4aa8-8d2a-de0fc96bc2db"
   },
   "outputs": [
    {
     "name": "stdout",
     "output_type": "stream",
     "text": [
      "313/313 [==============================] - 1s 4ms/step - loss: 0.0458 - accuracy: 0.9924\n",
      "\n",
      "accuracy= 0.9923999905586243\n"
     ]
    }
   ],
   "source": [
    "scores = model.evaluate(x_Test4D_normalize, y_TestOneHot)\n",
    "print()\n",
    "print('accuracy=',scores[1])"
   ]
  },
  {
   "cell_type": "markdown",
   "metadata": {
    "colab_type": "text",
    "id": "sYeIVedLiB_D"
   },
   "source": [
    "# (9) Prediction"
   ]
  },
  {
   "cell_type": "code",
   "execution_count": 17,
   "metadata": {
    "colab": {},
    "colab_type": "code",
    "id": "3R_X4hO2iB_E"
   },
   "outputs": [],
   "source": [
    "predictions = (model.predict(x_test) > 0.5).astype(\"int32\")"
   ]
  },
  {
   "cell_type": "code",
   "execution_count": 18,
   "metadata": {
    "colab": {},
    "colab_type": "code",
    "id": "7Hwq3xCViB_F"
   },
   "outputs": [],
   "source": [
    "def plot_images_labels_prediction(images,labels,prediction,\n",
    "                                  idx,num=10):\n",
    "    fig = plt.gcf()\n",
    "    fig.set_size_inches(12, 14)\n",
    "    if num>25: num=25 \n",
    "    for i in range(0, num):\n",
    "        ax=plt.subplot(5,5, 1+i)\n",
    "        ax.imshow(images[idx], cmap='binary')\n",
    "        title= \"label=\" +str(labels[idx])\n",
    "        if len(prediction)>0:\n",
    "            title+=\",predict=\"+str(prediction[idx]) \n",
    "            \n",
    "        ax.set_title(title,fontsize=10) \n",
    "        ax.set_xticks([]);ax.set_yticks([])        \n",
    "        idx+=1 \n",
    "    plt.show()"
   ]
  },
  {
   "cell_type": "code",
   "execution_count": 19,
   "metadata": {
    "colab": {
     "base_uri": "https://localhost:8080/",
     "height": 318
    },
    "colab_type": "code",
    "id": "nfwNhsESiB_I",
    "outputId": "c7e91fe4-83dc-4c38-aaaa-c5be19e47a49"
   },
   "outputs": [
    {
     "data": {
      "image/png": "[encoded data removed]",
      "text/plain": [
       "<Figure size 864x1008 with 10 Axes>"
      ]
     },
     "metadata": {},
     "output_type": "display_data"
    }
   ],
   "source": [
    "plot_images_labels_prediction(x_test,y_test,\n",
    "                              predictions,idx=320)"
   ]
  },
  {
   "cell_type": "markdown",
   "metadata": {
    "colab_type": "text",
    "id": "7KXP7Dz4iB_M"
   },
   "source": [
    "# (10) Confusion matrix"
   ]
  },
  {
   "cell_type": "code",
   "execution_count": 20,
   "metadata": {
    "colab": {},
    "colab_type": "code",
    "id": "XFYNFUdfA17Q"
   },
   "outputs": [],
   "source": [
    "# save and load weights\n",
    "model.save_weights('my_model_weights.h5')\n",
    "model.load_weights('my_model_weights.h5')"
   ]
  },
  {
   "cell_type": "code",
   "execution_count": 21,
   "metadata": {
    "colab": {
     "base_uri": "https://localhost:8080/",
     "height": 442
    },
    "colab_type": "code",
    "id": "aIAb1_73iB_R",
    "outputId": "73d6f242-59d5-44db-cff9-a704f905c861"
   },
   "outputs": [
    {
     "name": "stdout",
     "output_type": "stream",
     "text": [
      "Model: \"sequential_2\"\n",
      "_________________________________________________________________\n",
      " Layer (type)                Output Shape              Param #   \n",
      "=================================================================\n",
      " conv2d_2 (Conv2D)           (None, 26, 26, 32)        320       \n",
      "                                                                 \n",
      " max_pooling2d_2 (MaxPooling  (None, 13, 13, 32)       0         \n",
      " 2D)                                                             \n",
      "                                                                 \n",
      " conv2d_3 (Conv2D)           (None, 11, 11, 64)        18496     \n",
      "                                                                 \n",
      " max_pooling2d_3 (MaxPooling  (None, 5, 5, 64)         0         \n",
      " 2D)                                                             \n",
      "                                                                 \n",
      " flatten_1 (Flatten)         (None, 1600)              0         \n",
      "                                                                 \n",
      " dense_2 (Dense)             (None, 128)               204928    \n",
      "                                                                 \n",
      " dense_3 (Dense)             (None, 64)                8256      \n",
      "                                                                 \n",
      " dense_4 (Dense)             (None, 10)                650       \n",
      "                                                                 \n",
      "=================================================================\n",
      "Total params: 232,650\n",
      "Trainable params: 232,650\n",
      "Non-trainable params: 0\n",
      "_________________________________________________________________\n"
     ]
    }
   ],
   "source": [
    "model.save('my_model.h5')  \n",
    "del model  # deletes the existing model\n",
    "\n",
    "from keras.models import load_model\n",
    "model = load_model('my_model.h5')\n",
    "model.summary()"
   ]
  }
 ],
 "metadata": {
  "accelerator": "GPU",
  "colab": {
   "name": "for_camera_train_001.ipynb",
   "provenance": [],
   "version": "0.3.2"
  },
  "kernelspec": {
   "display_name": "Python 3",
   "language": "python",
   "name": "python3"
  },
  "language_info": {
   "codemirror_mode": {
    "name": "ipython",
    "version": 3
   },
   "file_extension": ".py",
   "mimetype": "text/x-python",
   "name": "python",
   "nbconvert_exporter": "python",
   "pygments_lexer": "ipython3",
   "version": "3.8.12"
  }
 },
 "nbformat": 4,
 "nbformat_minor": 1
}
