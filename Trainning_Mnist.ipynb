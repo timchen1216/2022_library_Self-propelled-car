{
 "cells": [
  {
   "cell_type": "markdown",
   "metadata": {
    "colab_type": "text",
    "id": "N-S3jKKEiB95"
   },
   "source": [
    "# How to use Google Colab\n",
    "#  "
   ]
  },
  {
   "cell_type": "markdown",
   "metadata": {
    "colab_type": "text",
    "id": "Z0wrVvxyiB97"
   },
   "source": [
    "### MNIST, Convolutional Neural Network (CNN)\n",
    "\n",
    "### Step - 3\n",
    "\n",
    "### MNIST由手寫阿拉伯數字組成，包含60,000個訓練樣本和10,000個測試樣本。\n",
    "\n",
    "##### data from: https://keras.io/datasets/#mnist-database-of-handwritten-digits\n",
    "##### code modified from: TensorFlow+Keras[深度學習]人工智慧實務應用 / 林大貴\n"
   ]
  },
  {
   "cell_type": "markdown",
   "metadata": {
    "colab_type": "text",
    "id": "88Yhbd6XiB98"
   },
   "source": [
    "# (1) Import the data from Keras"
   ]
  },
  {
   "cell_type": "code",
   "execution_count": 1,
   "metadata": {
    "colab": {},
    "colab_type": "code",
    "id": "4NHDi4ghiB9-",
    "scrolled": true
   },
   "outputs": [],
   "source": [
    "from keras.utils import np_utils\n",
    "import matplotlib.pyplot as plt\n",
    "import pandas as pd\n",
    "import numpy as np\n",
    "np.random.seed(3)"
   ]
  },
  {
   "cell_type": "code",
   "execution_count": 2,
   "metadata": {
    "colab": {
     "base_uri": "https://localhost:8080/",
     "height": 34
    },
    "colab_type": "code",
    "id": "bJKPj9xKiB-H",
    "outputId": "f84edb3e-e2ce-48f0-8511-662cae9793c0"
   },
   "outputs": [
    {
     "name": "stdout",
     "output_type": "stream",
     "text": [
      "(60000, 28, 28)\n",
      "(60000,)\n",
      "(10000, 28, 28)\n",
      "(10000,)\n"
     ]
    }
   ],
   "source": [
    "# read in the file\n",
    "import keras\n",
    "import tensorflow as tf \n",
    "\n",
    "tf.keras.datasets.mnist.load_data(path=\"mnist.npz\")\n",
    "(x_train, y_train), (x_test, y_test) = keras.datasets.mnist.load_data()\n",
    "\n",
    "print(x_train.shape)\n",
    "print(y_train.shape)\n",
    "print(x_test.shape)\n",
    "print(y_test.shape)"
   ]
  },
  {
   "cell_type": "markdown",
   "metadata": {
    "colab_type": "text",
    "id": "IG_aNFEuiB-K"
   },
   "source": [
    "# (2) View the first 10 images and labels"
   ]
  },
  {
   "cell_type": "code",
   "execution_count": 3,
   "metadata": {
    "colab": {
     "base_uri": "https://localhost:8080/",
     "height": 318
    },
    "colab_type": "code",
    "id": "rFH2lowXiB-L",
    "outputId": "55ee921c-83f4-464b-ecda-1b7f9770b03e"
   },
   "outputs": [
    {
     "data": {
      "image/png": "[encoded data removed]",
      "text/plain": [
       "<Figure size 864x1008 with 10 Axes>"
      ]
     },
     "metadata": {},
     "output_type": "display_data"
    }
   ],
   "source": [
    "fig = plt.gcf()\n",
    "fig.set_size_inches(12,14)\n",
    "\n",
    "for i in range(0,10):\n",
    "    ax=plt.subplot(5,5,1+i)\n",
    "    ax.imshow(x_train[i], cmap='binary')\n",
    "    title= \"label=\" +str(y_train[i])\n",
    "    ax.set_title(title,fontsize=10) \n",
    "    ax.set_xticks([]);ax.set_yticks([])        \n",
    "plt.show()"
   ]
  },
  {
   "cell_type": "markdown",
   "metadata": {
    "colab_type": "text",
    "id": "cgntcnA3iB-O"
   },
   "source": [
    "# (3) Convert 2-D image to nx28x28x1 array, normalize the numbers"
   ]
  },
  {
   "cell_type": "code",
   "execution_count": 4,
   "metadata": {
    "colab": {},
    "colab_type": "code",
    "id": "QsLvVG6PiB-P"
   },
   "outputs": [],
   "source": [
    "# convert 2-D 28x28 image to 4-D nx28x28x1  array\n",
    "\n",
    "x_Train4D=x_train.reshape(x_train.shape[0],28,28,1).astype('float32')\n",
    "x_Test4D=x_test.reshape(x_test.shape[0],28,28,1).astype('float32')"
   ]
  },
  {
   "cell_type": "code",
   "execution_count": 5,
   "metadata": {
    "colab": {
     "base_uri": "https://localhost:8080/",
     "height": 51
    },
    "colab_type": "code",
    "id": "ak17dtJOiB-R",
    "outputId": "00419a76-cfcc-46ed-933c-7126a749000d"
   },
   "outputs": [
    {
     "name": "stdout",
     "output_type": "stream",
     "text": [
      "(60000, 28, 28, 1)\n",
      "(10000, 28, 28, 1)\n"
     ]
    }
   ],
   "source": [
    "# normalize the image numbers to 0~1\n",
    "\n",
    "x_Train4D_normalize = x_Train4D / 255\n",
    "x_Test4D_normalize = x_Test4D / 255\n",
    "print(x_Train4D_normalize.shape)\n",
    "print(x_Test4D_normalize.shape)"
   ]
  },
  {
   "cell_type": "markdown",
   "metadata": {
    "colab_type": "text",
    "id": "9NVmskhZiB-U"
   },
   "source": [
    "# (4) Convert label number to one-hot encoding"
   ]
  },
  {
   "cell_type": "code",
   "execution_count": 6,
   "metadata": {
    "colab": {
     "base_uri": "https://localhost:8080/",
     "height": 51
    },
    "colab_type": "code",
    "id": "KHam7D5MiB-V",
    "outputId": "69ac8686-388d-4bff-9158-d41c147b942b"
   },
   "outputs": [
    {
     "name": "stdout",
     "output_type": "stream",
     "text": [
      "(60000, 10)\n",
      "(10000, 10)\n"
     ]
    }
   ],
   "source": [
    "# convert label numbers to one-hot encoding\n",
    "\n",
    "y_TrainOneHot = np_utils.to_categorical(y_train)\n",
    "y_TestOneHot = np_utils.to_categorical(y_test)\n",
    "print(y_TrainOneHot.shape)\n",
    "print(y_TestOneHot.shape)"
   ]
  },
  {
   "cell_type": "markdown",
   "metadata": {
    "colab_type": "text",
    "collapsed": true,
    "id": "IjVdsDWqiB-a"
   },
   "source": [
    "# (5) Use a Convolutional Neural Network"
   ]
  },
  {
   "cell_type": "code",
   "execution_count": 7,
   "metadata": {
    "colab": {},
    "colab_type": "code",
    "id": "j-cVM2PMiB-a"
   },
   "outputs": [],
   "source": [
    "from keras.models import Sequential\n",
    "from keras.layers import Dense,Dropout,Flatten,Conv2D,MaxPooling2D"
   ]
  },
  {
   "cell_type": "code",
   "execution_count": 8,
   "metadata": {
    "colab": {},
    "colab_type": "code",
    "id": "LGzyg9FEiB-d"
   },
   "outputs": [],
   "source": [
    "model = Sequential()"
   ]
  },
  {
   "cell_type": "code",
   "execution_count": 9,
   "metadata": {
    "colab": {},
    "colab_type": "code",
    "id": "n-zfvoSwiB-f"
   },
   "outputs": [],
   "source": [
    "model.add(Conv2D(filters=16,\n",
    "                 kernel_size=(5,5),\n",
    "                 padding='same',\n",
    "                 input_shape=(28,28,1), \n",
    "                 activation='relu'))"
   ]
  },
  {
   "cell_type": "code",
   "execution_count": 10,
   "metadata": {
    "colab": {},
    "colab_type": "code",
    "id": "auuc0E5XiB-i"
   },
   "outputs": [],
   "source": [
    "# Enable this cell in the second step\n",
    "\n",
    "model.add(MaxPooling2D(pool_size=(2, 2)))\n",
    "model.add(Conv2D(filters=36,\n",
    "                 kernel_size=(5,5),\n",
    "                 padding='same',\n",
    "                 activation='relu'))\n",
    "model.add(MaxPooling2D(pool_size=(2, 2)))\n",
    "model.add(Dropout(0.25))"
   ]
  },
  {
   "cell_type": "code",
   "execution_count": 11,
   "metadata": {
    "colab": {},
    "colab_type": "code",
    "id": "1XD6CiGdiB-l"
   },
   "outputs": [],
   "source": [
    "model.add(Flatten())"
   ]
  },
  {
   "cell_type": "code",
   "execution_count": 12,
   "metadata": {
    "colab": {},
    "colab_type": "code",
    "id": "8Na0DHHBiB-p"
   },
   "outputs": [],
   "source": [
    "# Enable this cell in the second step\n",
    "\n",
    "model.add(Dense(128, activation='relu'))\n",
    "model.add(Dropout(0.5))"
   ]
  },
  {
   "cell_type": "code",
   "execution_count": 13,
   "metadata": {
    "colab": {},
    "colab_type": "code",
    "id": "SQ5-kXSBiB-s"
   },
   "outputs": [],
   "source": [
    "model.add(Dense(10,activation='softmax'))"
   ]
  },
  {
   "cell_type": "code",
   "execution_count": 14,
   "metadata": {
    "colab": {
     "base_uri": "https://localhost:8080/",
     "height": 459
    },
    "colab_type": "code",
    "id": "bPYY0gb2iB-v",
    "outputId": "f4d7e764-73cc-4bdf-fb68-f2017def61d4"
   },
   "outputs": [
    {
     "name": "stdout",
     "output_type": "stream",
     "text": [
      "Model: \"sequential\"\n",
      "_________________________________________________________________\n",
      " Layer (type)                Output Shape              Param #   \n",
      "=================================================================\n",
      " conv2d (Conv2D)             (None, 28, 28, 16)        416       \n",
      "                                                                 \n",
      " max_pooling2d (MaxPooling2D  (None, 14, 14, 16)       0         \n",
      " )                                                               \n",
      "                                                                 \n",
      " conv2d_1 (Conv2D)           (None, 14, 14, 36)        14436     \n",
      "                                                                 \n",
      " max_pooling2d_1 (MaxPooling  (None, 7, 7, 36)         0         \n",
      " 2D)                                                             \n",
      "                                                                 \n",
      " dropout (Dropout)           (None, 7, 7, 36)          0         \n",
      "                                                                 \n",
      " flatten (Flatten)           (None, 1764)              0         \n",
      "                                                                 \n",
      " dense (Dense)               (None, 128)               225920    \n",
      "                                                                 \n",
      " dropout_1 (Dropout)         (None, 128)               0         \n",
      "                                                                 \n",
      " dense_1 (Dense)             (None, 10)                1290      \n",
      "                                                                 \n",
      "=================================================================\n",
      "Total params: 242,062\n",
      "Trainable params: 242,062\n",
      "Non-trainable params: 0\n",
      "_________________________________________________________________\n",
      "None\n"
     ]
    }
   ],
   "source": [
    "print(model.summary())"
   ]
  },
  {
   "cell_type": "markdown",
   "metadata": {
    "colab_type": "text",
    "id": "lps55lvXiB-y"
   },
   "source": [
    "# (6) Model training"
   ]
  },
  {
   "cell_type": "code",
   "execution_count": 15,
   "metadata": {
    "colab": {},
    "colab_type": "code",
    "id": "Li6DsK-hiB-z"
   },
   "outputs": [],
   "source": [
    "model.compile(loss='categorical_crossentropy',\n",
    "              optimizer='adam',metrics=['accuracy']) "
   ]
  },
  {
   "cell_type": "code",
   "execution_count": 16,
   "metadata": {
    "colab": {
     "base_uri": "https://localhost:8080/",
     "height": 1734
    },
    "colab_type": "code",
    "id": "WHV_-sKeiB-3",
    "outputId": "cdd9a518-b634-4a28-f37d-7b6efcea57f7"
   },
   "outputs": [
    {
     "name": "stdout",
     "output_type": "stream",
     "text": [
      "Epoch 1/50\n",
      "160/160 - 14s - loss: 0.5013 - accuracy: 0.8433 - val_loss: 0.1106 - val_accuracy: 0.9663 - 14s/epoch - 89ms/step\n",
      "Epoch 2/50\n",
      "160/160 - 13s - loss: 0.1476 - accuracy: 0.9561 - val_loss: 0.0676 - val_accuracy: 0.9800 - 13s/epoch - 82ms/step\n",
      "Epoch 3/50\n",
      "160/160 - 13s - loss: 0.1042 - accuracy: 0.9691 - val_loss: 0.0604 - val_accuracy: 0.9824 - 13s/epoch - 84ms/step\n",
      "Epoch 4/50\n",
      "160/160 - 14s - loss: 0.0862 - accuracy: 0.9741 - val_loss: 0.0472 - val_accuracy: 0.9859 - 14s/epoch - 86ms/step\n",
      "Epoch 5/50\n",
      "160/160 - 13s - loss: 0.0729 - accuracy: 0.9789 - val_loss: 0.0448 - val_accuracy: 0.9875 - 13s/epoch - 82ms/step\n",
      "Epoch 6/50\n",
      "160/160 - 13s - loss: 0.0621 - accuracy: 0.9812 - val_loss: 0.0389 - val_accuracy: 0.9890 - 13s/epoch - 81ms/step\n",
      "Epoch 7/50\n",
      "160/160 - 13s - loss: 0.0555 - accuracy: 0.9832 - val_loss: 0.0396 - val_accuracy: 0.9893 - 13s/epoch - 83ms/step\n",
      "Epoch 8/50\n",
      "160/160 - 13s - loss: 0.0521 - accuracy: 0.9845 - val_loss: 0.0371 - val_accuracy: 0.9908 - 13s/epoch - 83ms/step\n",
      "Epoch 9/50\n",
      "160/160 - 13s - loss: 0.0459 - accuracy: 0.9862 - val_loss: 0.0377 - val_accuracy: 0.9895 - 13s/epoch - 83ms/step\n",
      "Epoch 10/50\n",
      "160/160 - 13s - loss: 0.0439 - accuracy: 0.9859 - val_loss: 0.0379 - val_accuracy: 0.9894 - 13s/epoch - 83ms/step\n",
      "Epoch 11/50\n",
      "160/160 - 13s - loss: 0.0404 - accuracy: 0.9881 - val_loss: 0.0352 - val_accuracy: 0.9908 - 13s/epoch - 83ms/step\n",
      "Epoch 12/50\n",
      "160/160 - 13s - loss: 0.0347 - accuracy: 0.9889 - val_loss: 0.0353 - val_accuracy: 0.9907 - 13s/epoch - 84ms/step\n",
      "Epoch 13/50\n",
      "160/160 - 14s - loss: 0.0355 - accuracy: 0.9886 - val_loss: 0.0363 - val_accuracy: 0.9890 - 14s/epoch - 86ms/step\n",
      "Epoch 14/50\n",
      "160/160 - 14s - loss: 0.0326 - accuracy: 0.9902 - val_loss: 0.0340 - val_accuracy: 0.9904 - 14s/epoch - 87ms/step\n",
      "Epoch 15/50\n",
      "160/160 - 14s - loss: 0.0290 - accuracy: 0.9904 - val_loss: 0.0337 - val_accuracy: 0.9908 - 14s/epoch - 89ms/step\n",
      "Epoch 16/50\n",
      "160/160 - 14s - loss: 0.0290 - accuracy: 0.9910 - val_loss: 0.0321 - val_accuracy: 0.9911 - 14s/epoch - 87ms/step\n",
      "Epoch 17/50\n",
      "160/160 - 13s - loss: 0.0275 - accuracy: 0.9914 - val_loss: 0.0350 - val_accuracy: 0.9912 - 13s/epoch - 84ms/step\n",
      "Epoch 18/50\n",
      "160/160 - 13s - loss: 0.0270 - accuracy: 0.9909 - val_loss: 0.0326 - val_accuracy: 0.9912 - 13s/epoch - 84ms/step\n",
      "Epoch 19/50\n",
      "160/160 - 14s - loss: 0.0251 - accuracy: 0.9916 - val_loss: 0.0339 - val_accuracy: 0.9908 - 14s/epoch - 89ms/step\n",
      "Epoch 20/50\n",
      "160/160 - 14s - loss: 0.0245 - accuracy: 0.9922 - val_loss: 0.0320 - val_accuracy: 0.9920 - 14s/epoch - 88ms/step\n",
      "Epoch 21/50\n",
      "160/160 - 14s - loss: 0.0223 - accuracy: 0.9929 - val_loss: 0.0317 - val_accuracy: 0.9923 - 14s/epoch - 88ms/step\n",
      "Epoch 22/50\n",
      "160/160 - 14s - loss: 0.0218 - accuracy: 0.9930 - val_loss: 0.0335 - val_accuracy: 0.9916 - 14s/epoch - 85ms/step\n",
      "Epoch 23/50\n",
      "160/160 - 14s - loss: 0.0197 - accuracy: 0.9931 - val_loss: 0.0333 - val_accuracy: 0.9919 - 14s/epoch - 85ms/step\n",
      "Epoch 24/50\n",
      "160/160 - 14s - loss: 0.0202 - accuracy: 0.9938 - val_loss: 0.0313 - val_accuracy: 0.9915 - 14s/epoch - 85ms/step\n",
      "Epoch 25/50\n",
      "160/160 - 14s - loss: 0.0191 - accuracy: 0.9939 - val_loss: 0.0333 - val_accuracy: 0.9916 - 14s/epoch - 85ms/step\n",
      "Epoch 26/50\n",
      "160/160 - 14s - loss: 0.0178 - accuracy: 0.9938 - val_loss: 0.0335 - val_accuracy: 0.9925 - 14s/epoch - 85ms/step\n",
      "Epoch 27/50\n",
      "160/160 - 14s - loss: 0.0172 - accuracy: 0.9947 - val_loss: 0.0330 - val_accuracy: 0.9908 - 14s/epoch - 85ms/step\n",
      "Epoch 28/50\n",
      "160/160 - 14s - loss: 0.0166 - accuracy: 0.9942 - val_loss: 0.0331 - val_accuracy: 0.9921 - 14s/epoch - 85ms/step\n",
      "Epoch 29/50\n",
      "160/160 - 14s - loss: 0.0168 - accuracy: 0.9942 - val_loss: 0.0337 - val_accuracy: 0.9921 - 14s/epoch - 86ms/step\n",
      "Epoch 30/50\n",
      "160/160 - 14s - loss: 0.0166 - accuracy: 0.9948 - val_loss: 0.0340 - val_accuracy: 0.9917 - 14s/epoch - 86ms/step\n",
      "Epoch 31/50\n",
      "160/160 - 14s - loss: 0.0164 - accuracy: 0.9940 - val_loss: 0.0341 - val_accuracy: 0.9923 - 14s/epoch - 86ms/step\n",
      "Epoch 32/50\n",
      "160/160 - 14s - loss: 0.0153 - accuracy: 0.9948 - val_loss: 0.0333 - val_accuracy: 0.9924 - 14s/epoch - 85ms/step\n",
      "Epoch 33/50\n",
      "160/160 - 14s - loss: 0.0155 - accuracy: 0.9948 - val_loss: 0.0332 - val_accuracy: 0.9920 - 14s/epoch - 85ms/step\n",
      "Epoch 34/50\n",
      "160/160 - 14s - loss: 0.0136 - accuracy: 0.9955 - val_loss: 0.0392 - val_accuracy: 0.9919 - 14s/epoch - 86ms/step\n",
      "Epoch 35/50\n",
      "160/160 - 14s - loss: 0.0140 - accuracy: 0.9953 - val_loss: 0.0369 - val_accuracy: 0.9918 - 14s/epoch - 86ms/step\n",
      "Epoch 36/50\n",
      "160/160 - 14s - loss: 0.0145 - accuracy: 0.9952 - val_loss: 0.0344 - val_accuracy: 0.9917 - 14s/epoch - 86ms/step\n",
      "Epoch 37/50\n",
      "160/160 - 14s - loss: 0.0122 - accuracy: 0.9959 - val_loss: 0.0369 - val_accuracy: 0.9921 - 14s/epoch - 86ms/step\n",
      "Epoch 38/50\n",
      "160/160 - 14s - loss: 0.0132 - accuracy: 0.9955 - val_loss: 0.0361 - val_accuracy: 0.9927 - 14s/epoch - 85ms/step\n",
      "Epoch 39/50\n",
      "160/160 - 14s - loss: 0.0126 - accuracy: 0.9960 - val_loss: 0.0315 - val_accuracy: 0.9931 - 14s/epoch - 86ms/step\n",
      "Epoch 40/50\n",
      "160/160 - 14s - loss: 0.0130 - accuracy: 0.9955 - val_loss: 0.0357 - val_accuracy: 0.9923 - 14s/epoch - 86ms/step\n",
      "Epoch 41/50\n",
      "160/160 - 14s - loss: 0.0127 - accuracy: 0.9957 - val_loss: 0.0356 - val_accuracy: 0.9924 - 14s/epoch - 84ms/step\n",
      "Epoch 42/50\n",
      "160/160 - 14s - loss: 0.0129 - accuracy: 0.9954 - val_loss: 0.0393 - val_accuracy: 0.9921 - 14s/epoch - 86ms/step\n",
      "Epoch 43/50\n",
      "160/160 - 14s - loss: 0.0106 - accuracy: 0.9963 - val_loss: 0.0387 - val_accuracy: 0.9918 - 14s/epoch - 85ms/step\n",
      "Epoch 44/50\n",
      "160/160 - 14s - loss: 0.0113 - accuracy: 0.9962 - val_loss: 0.0380 - val_accuracy: 0.9923 - 14s/epoch - 86ms/step\n",
      "Epoch 45/50\n",
      "160/160 - 14s - loss: 0.0127 - accuracy: 0.9957 - val_loss: 0.0366 - val_accuracy: 0.9921 - 14s/epoch - 85ms/step\n",
      "Epoch 46/50\n",
      "160/160 - 13s - loss: 0.0109 - accuracy: 0.9962 - val_loss: 0.0406 - val_accuracy: 0.9923 - 13s/epoch - 84ms/step\n",
      "Epoch 47/50\n",
      "160/160 - 14s - loss: 0.0110 - accuracy: 0.9964 - val_loss: 0.0422 - val_accuracy: 0.9921 - 14s/epoch - 85ms/step\n",
      "Epoch 48/50\n",
      "160/160 - 14s - loss: 0.0098 - accuracy: 0.9967 - val_loss: 0.0390 - val_accuracy: 0.9918 - 14s/epoch - 86ms/step\n",
      "Epoch 49/50\n",
      "160/160 - 14s - loss: 0.0111 - accuracy: 0.9964 - val_loss: 0.0373 - val_accuracy: 0.9929 - 14s/epoch - 86ms/step\n",
      "Epoch 50/50\n",
      "160/160 - 14s - loss: 0.0089 - accuracy: 0.9970 - val_loss: 0.0382 - val_accuracy: 0.9922 - 14s/epoch - 88ms/step\n"
     ]
    }
   ],
   "source": [
    "train_history=model.fit(x=x_Train4D_normalize, \n",
    "                        y=y_TrainOneHot,validation_split=0.2, \n",
    "                        epochs=50, batch_size=300,verbose=2)"
   ]
  },
  {
   "cell_type": "markdown",
   "metadata": {
    "colab_type": "text",
    "id": "wjur8EBwiB-5"
   },
   "source": [
    "# (7) Training history"
   ]
  },
  {
   "cell_type": "code",
   "execution_count": 17,
   "metadata": {
    "colab": {},
    "colab_type": "code",
    "id": "9TnuMkBciB-6"
   },
   "outputs": [],
   "source": [
    "def show_train_history(train_history,train,validation):\n",
    "    plt.plot(train_history.history[train])\n",
    "    plt.plot(train_history.history[validation])\n",
    "    plt.title('Train History')\n",
    "    plt.ylabel(train)\n",
    "    plt.xlabel('Epoch')\n",
    "    plt.legend(['train', 'validation'], loc='upper left')\n",
    "    plt.show()"
   ]
  },
  {
   "cell_type": "code",
   "execution_count": 18,
   "metadata": {
    "colab": {
     "base_uri": "https://localhost:8080/",
     "height": 376
    },
    "colab_type": "code",
    "id": "DG8q8QKJiB-8",
    "outputId": "ebf6dc05-7baa-4470-f1ee-08c42b449c07"
   },
   "outputs": [
    {
     "data": {
      "image/png": "[encoded data removed]",
      "text/plain": [
       "<Figure size 432x288 with 1 Axes>"
      ]
     },
     "metadata": {
      "needs_background": "light"
     },
     "output_type": "display_data"
    }
   ],
   "source": [
    "show_train_history(train_history,'accuracy','val_accuracy')"
   ]
  },
  {
   "cell_type": "code",
   "execution_count": 19,
   "metadata": {
    "colab": {
     "base_uri": "https://localhost:8080/",
     "height": 376
    },
    "colab_type": "code",
    "id": "NHZSgQl1iB--",
    "outputId": "50f1a852-173c-40b8-8d7f-97686311bccf"
   },
   "outputs": [
    {
     "data": {
      "image/png": "[encoded data removed]",
      "text/plain": [
       "<Figure size 432x288 with 1 Axes>"
      ]
     },
     "metadata": {
      "needs_background": "light"
     },
     "output_type": "display_data"
    }
   ],
   "source": [
    "show_train_history(train_history,'loss','val_loss')"
   ]
  },
  {
   "cell_type": "markdown",
   "metadata": {
    "colab_type": "text",
    "id": "UAsBzQe3iB_A"
   },
   "source": [
    "# (8) Accuracy"
   ]
  },
  {
   "cell_type": "code",
   "execution_count": 20,
   "metadata": {
    "colab": {
     "base_uri": "https://localhost:8080/",
     "height": 68
    },
    "colab_type": "code",
    "id": "4y7ZkS_giB_B",
    "outputId": "b6b0bb53-01e5-4aa8-8d2a-de0fc96bc2db"
   },
   "outputs": [
    {
     "name": "stdout",
     "output_type": "stream",
     "text": [
      "313/313 [==============================] - 1s 3ms/step - loss: 0.0269 - accuracy: 0.9940\n",
      "\n",
      "accuracy= 0.9940000176429749\n"
     ]
    }
   ],
   "source": [
    "scores = model.evaluate(x_Test4D_normalize, y_TestOneHot)\n",
    "print()\n",
    "print('accuracy=',scores[1])"
   ]
  },
  {
   "cell_type": "markdown",
   "metadata": {
    "colab_type": "text",
    "id": "sYeIVedLiB_D"
   },
   "source": [
    "# (9) Prediction"
   ]
  },
  {
   "cell_type": "code",
   "execution_count": 21,
   "metadata": {
    "colab": {},
    "colab_type": "code",
    "id": "3R_X4hO2iB_E"
   },
   "outputs": [],
   "source": [
    "predictions = (model.predict(x_test) > 0.5).astype(\"int32\")"
   ]
  },
  {
   "cell_type": "code",
   "execution_count": 22,
   "metadata": {
    "colab": {},
    "colab_type": "code",
    "id": "7Hwq3xCViB_F"
   },
   "outputs": [],
   "source": [
    "def plot_images_labels_prediction(images,labels,prediction,\n",
    "                                  idx,num=10):\n",
    "    fig = plt.gcf()\n",
    "    fig.set_size_inches(12, 14)\n",
    "    if num>25: num=25 \n",
    "    for i in range(0, num):\n",
    "        ax=plt.subplot(5,5, 1+i)\n",
    "        ax.imshow(images[idx], cmap='binary')\n",
    "        title= \"label=\" +str(labels[idx])\n",
    "        if len(prediction)>0:\n",
    "            title+=\",predict=\"+str(prediction[idx]) \n",
    "            \n",
    "        ax.set_title(title,fontsize=10) \n",
    "        ax.set_xticks([]);ax.set_yticks([])        \n",
    "        idx+=1 \n",
    "    plt.show()"
   ]
  },
  {
   "cell_type": "code",
   "execution_count": 24,
   "metadata": {
    "colab": {
     "base_uri": "https://localhost:8080/",
     "height": 318
    },
    "colab_type": "code",
    "id": "nfwNhsESiB_I",
    "outputId": "c7e91fe4-83dc-4c38-aaaa-c5be19e47a49"
   },
   "outputs": [
    {
     "data": {
      "image/png": "[encoded data removed]",
      "text/plain": [
       "<Figure size 864x1008 with 10 Axes>"
      ]
     },
     "metadata": {},
     "output_type": "display_data"
    }
   ],
   "source": [
    "plot_images_labels_prediction(x_test,y_test,\n",
    "                              predictions,idx=320)"
   ]
  },
  {
   "cell_type": "markdown",
   "metadata": {
    "colab_type": "text",
    "id": "7KXP7Dz4iB_M"
   },
   "source": [
    "# (10) Confusion matrix"
   ]
  },
  {
   "cell_type": "code",
   "execution_count": 25,
   "metadata": {
    "colab": {},
    "colab_type": "code",
    "id": "XFYNFUdfA17Q"
   },
   "outputs": [],
   "source": [
    "# save and load weights\n",
    "model.save_weights('my_model_weights.h5')\n",
    "model.load_weights('my_model_weights.h5')"
   ]
  },
  {
   "cell_type": "code",
   "execution_count": 26,
   "metadata": {
    "colab": {
     "base_uri": "https://localhost:8080/",
     "height": 442
    },
    "colab_type": "code",
    "id": "aIAb1_73iB_R",
    "outputId": "73d6f242-59d5-44db-cff9-a704f905c861"
   },
   "outputs": [
    {
     "name": "stdout",
     "output_type": "stream",
     "text": [
      "Model: \"sequential\"\n",
      "_________________________________________________________________\n",
      " Layer (type)                Output Shape              Param #   \n",
      "=================================================================\n",
      " conv2d (Conv2D)             (None, 28, 28, 16)        416       \n",
      "                                                                 \n",
      " max_pooling2d (MaxPooling2D  (None, 14, 14, 16)       0         \n",
      " )                                                               \n",
      "                                                                 \n",
      " conv2d_1 (Conv2D)           (None, 14, 14, 36)        14436     \n",
      "                                                                 \n",
      " max_pooling2d_1 (MaxPooling  (None, 7, 7, 36)         0         \n",
      " 2D)                                                             \n",
      "                                                                 \n",
      " dropout (Dropout)           (None, 7, 7, 36)          0         \n",
      "                                                                 \n",
      " flatten (Flatten)           (None, 1764)              0         \n",
      "                                                                 \n",
      " dense (Dense)               (None, 128)               225920    \n",
      "                                                                 \n",
      " dropout_1 (Dropout)         (None, 128)               0         \n",
      "                                                                 \n",
      " dense_1 (Dense)             (None, 10)                1290      \n",
      "                                                                 \n",
      "=================================================================\n",
      "Total params: 242,062\n",
      "Trainable params: 242,062\n",
      "Non-trainable params: 0\n",
      "_________________________________________________________________\n"
     ]
    }
   ],
   "source": [
    "model.save('my_model.h5')  \n",
    "del model  # deletes the existing model\n",
    "\n",
    "from keras.models import load_model\n",
    "model = load_model('my_model.h5')\n",
    "model.summary()"
   ]
  }
 ],
 "metadata": {
  "accelerator": "GPU",
  "colab": {
   "name": "for_camera_train_001.ipynb",
   "provenance": [],
   "version": "0.3.2"
  },
  "kernelspec": {
   "display_name": "Python 3",
   "language": "python",
   "name": "python3"
  },
  "language_info": {
   "codemirror_mode": {
    "name": "ipython",
    "version": 3
   },
   "file_extension": ".py",
   "mimetype": "text/x-python",
   "name": "python",
   "nbconvert_exporter": "python",
   "pygments_lexer": "ipython3",
   "version": "3.8.12"
  }
 },
 "nbformat": 4,
 "nbformat_minor": 1
}
